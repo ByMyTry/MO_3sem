{
 "cells": [
  {
   "cell_type": "markdown",
   "metadata": {},
   "source": [
    "### 1) Загрузите данные ex4data1.mat из файла."
   ]
  },
  {
   "cell_type": "code",
   "execution_count": 1,
   "metadata": {},
   "outputs": [],
   "source": [
    "import os\n",
    "import numpy as np\n",
    "import pandas as pd\n",
    "import matplotlib.pyplot as plt"
   ]
  },
  {
   "cell_type": "code",
   "execution_count": 2,
   "metadata": {},
   "outputs": [],
   "source": [
    "DATA_PATH = '/home/ataleckij/Projects/university/mo/Data/Lab 4/'"
   ]
  },
  {
   "cell_type": "code",
   "execution_count": 3,
   "metadata": {},
   "outputs": [
    {
     "name": "stdout",
     "output_type": "stream",
     "text": [
      "['ex4data1.mat', 'ex4weights.mat']\n"
     ]
    }
   ],
   "source": [
    "files_names = os.listdir(DATA_PATH)\n",
    "print(files_names)\n",
    "files_paths = [os.path.join(DATA_PATH, name) for name in files_names]"
   ]
  },
  {
   "cell_type": "code",
   "execution_count": 4,
   "metadata": {},
   "outputs": [
    {
     "name": "stdout",
     "output_type": "stream",
     "text": [
      "(5000, 400) (5000,)\n"
     ]
    }
   ],
   "source": [
    "from scipy.io import loadmat\n",
    "\n",
    "data = loadmat(files_paths[0])\n",
    "weights = loadmat(files_paths[1])\n",
    "\n",
    "features, labels = data['X'], data['y'].flatten()\n",
    "print(features.shape, labels.shape)"
   ]
  },
  {
   "cell_type": "markdown",
   "metadata": {},
   "source": [
    "### 2) Загрузите веса нейронной сети из файла ex4weights.mat, который содержит две матрицы Θ(1) (25, 401) и Θ(2) (10, 26). Какова структура полученной нейронной сети?"
   ]
  },
  {
   "cell_type": "code",
   "execution_count": 5,
   "metadata": {},
   "outputs": [
    {
     "name": "stdout",
     "output_type": "stream",
     "text": [
      "(25, 401) (10, 26)\n"
     ]
    }
   ],
   "source": [
    "t1, t2 = weights['Theta1'], weights['Theta2']\n",
    "print(t1.shape, t2.shape)\n",
    "\n",
    "w1, b1 = t1[:, 1:], t1[:, [0]]\n",
    "w2, b2 = t2[:, 1:], t2[:, [0]]"
   ]
  },
  {
   "cell_type": "markdown",
   "metadata": {},
   "source": [
    "### 3) Реализуйте функцию прямого распространения с сигмоидом в качестве функции активации. \n",
    "### 8) Реализуйте функцию вычисления производной для функции активации.\n",
    "### 9) Инициализируйте веса небольшими случайными числами.\n",
    "### 10) Реализуйте алгоритм обратного распространения ошибки для данной конфигурации сети."
   ]
  },
  {
   "cell_type": "code",
   "execution_count": 6,
   "metadata": {},
   "outputs": [],
   "source": [
    "import numpy as np\n",
    "import random\n",
    "\n",
    "def sigmoid(z):\n",
    "    return 1.0/(1.0+np.exp(-z))\n",
    "\n",
    "def sigmoid_prime(z):\n",
    "    return sigmoid(z)*(1-sigmoid(z))"
   ]
  },
  {
   "cell_type": "code",
   "execution_count": 37,
   "metadata": {},
   "outputs": [],
   "source": [
    "class Network:\n",
    "    def __init__(self, sizes, output=True):\n",
    "        \"\"\"\n",
    "        Список ``sizes`` содержит количество нейронов в соответствующих слоях\n",
    "        нейронной сети. Смещения и веса для нейронных сетей\n",
    "        инициализируются случайными значениями, подчиняющимися стандартному нормальному\n",
    "        распределению. Первый слой подразумевается слоем, принимающим входные данные, \n",
    "        поэтому к нему не добавляется смещение\n",
    "        \"\"\"\n",
    "\n",
    "        self.num_layers = len(sizes)\n",
    "        self.sizes = sizes\n",
    "#         np.random.seed(42)\n",
    "        self.biases = [np.random.randn(y, 1) for y in sizes[1:]]\n",
    "        self.weights = [np.random.randn(y, x)\n",
    "                        for x, y in zip(sizes[:-1], sizes[1:])]\n",
    "        self.output = output\n",
    "\n",
    "    def feedforward(self, a, layer_i=None):\n",
    "        \"\"\"\n",
    "        Вычислить и вернуть выходную активацию нейронной сети\n",
    "        при получении ``a`` на входе\n",
    "        \"\"\"\n",
    "        for layer_i_, (b, w) in enumerate(zip(self.biases, self.weights)):\n",
    "            a = sigmoid(np.dot(w, a)+b.T[0])\n",
    "            if i is not None and layer_i_ == layer_i:\n",
    "                break\n",
    "        return a\n",
    "    \n",
    "    def predict(self, features):\n",
    "        return np.asarray([self.feedforward(example_features) \n",
    "                           for example_features in features])\n",
    "    \n",
    "    def predict_classes(self, features):\n",
    "        prediction_onehot = self.predict(features)\n",
    "        return np.argmax(prediction_onehot, axis=1)\n",
    "\n",
    "    def SGD(self, training_data, epochs, mini_batch_size, eta, test_data=None, eta_reduce={}):\n",
    "        \"\"\"\n",
    "        Обучить нейронную сеть, используя алгоритм стохастического\n",
    "        (mini-batch) градиентного спуска. \n",
    "        ``training_data`` - лист кортежей вида ``(x, y)``, где \n",
    "        x - вход обучающего примера, y - желаемый выход (в формате one-hot).\n",
    "        \"\"\"\n",
    "\n",
    "        if test_data is not None: n_test = len(test_data)\n",
    "        n = len(training_data)\n",
    "        success_tests = 0\n",
    "        training_data_hoted = [(x[:, np.newaxis], y[:, np.newaxis]) \n",
    "                               for x, y in training_data]\n",
    "        for j in range(epochs):\n",
    "            if eta_reduce and (j in eta_reduce):\n",
    "                eta *= eta_reduce[j]\n",
    "                print(f'new eta: {eta}')\n",
    "            random.shuffle(training_data_hoted)\n",
    "            mini_batches = [training_data_hoted[k:k+mini_batch_size]\n",
    "                            for k in range(0, n, mini_batch_size)]\n",
    "            for mini_batch in mini_batches:\n",
    "                self.update_mini_batch(mini_batch, eta)\n",
    "            if self.output:\n",
    "                success_trains = self.evaluate(training_data)\n",
    "                log_message = f'Эпоха {j} \\t train: {round(success_trains/n, 4)}'\n",
    "                if test_data is not None:\n",
    "                    success_tests = self.evaluate(test_data)\n",
    "                    test_message = f' \\t test: {round(success_tests/n_test, 4)}'\n",
    "                    log_message += test_message\n",
    "                print(log_message)\n",
    "        if test_data is not None:\n",
    "            return success_tests / n_test\n",
    "\n",
    "    def update_mini_batch(self, mini_batch, eta):\n",
    "        \"\"\"\n",
    "        Обновить веса и смещения нейронной сети, сделав шаг градиентного\n",
    "        спуска на основе алгоритма обратного распространения ошибки, примененного\n",
    "        к одному mini batch.\n",
    "        ``mini_batch`` - список кортежей вида ``(x, y)``,\n",
    "        ``eta`` - величина шага (learning rate).\n",
    "        \"\"\"\n",
    "        \n",
    "        nabla_b = [np.zeros(b.shape) for b in self.biases]\n",
    "        nabla_w = [np.zeros(w.shape) for w in self.weights]\n",
    "        for x, y in mini_batch:\n",
    "            delta_nabla_b, delta_nabla_w = self.backprop(x, y)\n",
    "            nabla_b = [nb+dnb for nb, dnb in zip(nabla_b, delta_nabla_b)]\n",
    "            nabla_w = [nw+dnw for nw, dnw in zip(nabla_w, delta_nabla_w)]\n",
    "            \n",
    "        eps = eta / len(mini_batch)\n",
    "        self.weights = [w - eps * nw for w, nw in zip(self.weights, nabla_w)]\n",
    "        self.biases  = [b - eps * nb for b, nb in zip(self.biases,  nabla_b)]\n",
    "\n",
    "    def backprop(self, x, y):\n",
    "        \"\"\"\n",
    "        Возвращает кортеж ``(nabla_b, nabla_w)`` - градиент целевой функции по всем параметрам сети.\n",
    "        ``nabla_b`` и ``nabla_w`` - послойные списки массивов ndarray,\n",
    "        такие же, как self.biases и self.weights соответственно.\n",
    "        \"\"\"\n",
    "\n",
    "        nabla_b = [np.zeros(b.shape) for b in self.biases]\n",
    "        nabla_w = [np.zeros(w.shape) for w in self.weights]\n",
    "\n",
    "        # прямое распространение (forward pass)\n",
    "\n",
    "        a, z = [np.array(x).copy()], []\n",
    "        for b, w in zip(self.biases, self.weights):\n",
    "            # посчитать активации\n",
    "            if len(a) > 1:\n",
    "                zi = np.dot(w, a[-1]) + b#.T[0]\n",
    "            else:\n",
    "                zi = np.dot(w, a[-1]) + b#.T[0]\n",
    "            ai = sigmoid(zi)\n",
    "            z.append(zi)\n",
    "            a.append(ai)\n",
    "        z, a = np.array(z), np.array(a)\n",
    "\n",
    "        # обратное распространение (backward pass)\n",
    "        delta = (a[-1] - y)*sigmoid_prime(z[-1])#/(a[-1]*(1-a[-1]))  # ошибка выходного слоя\n",
    "        nabla_b[-1] = delta # производная J по смещениям выходного слоя\n",
    "        nabla_w[-1] = np.dot(delta, a[-2].T)  # производная J по весам выходного слоя\n",
    "\n",
    "        for l in range(2, self.num_layers):\n",
    "            # дополнительные вычисления, чтобы легче записывалось\n",
    "            weights = np.array(self.weights).copy()\n",
    "            delta = np.dot(weights[-(l-1)].T, delta)*sigmoid_prime(z[-l]) # ошибка на слое L-l\n",
    "            nabla_b[-l] = delta # производная J по смещениям L-l-го слоя\n",
    "            nabla_w[-l] = np.dot(delta, a[-(l+1)].T) # производная J по весам L-l-го слоя\n",
    "        return nabla_b, nabla_w\n",
    "\n",
    "    def evaluate(self, test_data):\n",
    "        \"\"\"\n",
    "        Вернуть количество тестовых примеров, для которых нейронная сеть\n",
    "        возвращает правильный ответ.\n",
    "        \"\"\"\n",
    "        test_results = [(np.argmax(self.feedforward(x)), np.argmax(y))\n",
    "                        for (x, y) in test_data]\n",
    "        return sum(int(x == y) for (x, y) in test_results)\n",
    "\n",
    "    def cost_derivative(self, output_activations, y):\n",
    "        \"\"\"\n",
    "        Возвращает вектор частных производных целевой функции по активациям выходного слоя.\n",
    "        \"\"\"\n",
    "        return (output_activations-y)"
   ]
  },
  {
   "cell_type": "markdown",
   "metadata": {},
   "source": [
    "### 4) Вычислите процент правильных классификаций на обучающей выборке. Сравните полученный результат с логистической регрессией."
   ]
  },
  {
   "cell_type": "code",
   "execution_count": 8,
   "metadata": {},
   "outputs": [
    {
     "name": "stdout",
     "output_type": "stream",
     "text": [
      "[(25, 1), (10, 1)]\n",
      "[(25, 400), (10, 25)]\n",
      "(25, 1) (10, 1)\n",
      "(25, 400) (10, 25)\n"
     ]
    }
   ],
   "source": [
    "nn = Network([400, 25, 10])\n",
    "\n",
    "print([b.shape for b in nn.biases])\n",
    "print([w.shape for w in nn.weights])\n",
    "\n",
    "print(b1.shape, b2.shape)\n",
    "print(w1.shape, w2.shape)\n",
    "\n",
    "nn.biases = [b1, b2]\n",
    "nn.weights = [w1, w2]"
   ]
  },
  {
   "cell_type": "code",
   "execution_count": 9,
   "metadata": {},
   "outputs": [
    {
     "data": {
      "text/plain": [
       "0.9752"
      ]
     },
     "execution_count": 9,
     "metadata": {},
     "output_type": "execute_result"
    }
   ],
   "source": [
    "from sklearn.preprocessing import LabelEncoder\n",
    "\n",
    "le = LabelEncoder()\n",
    "labels_indexes = le.fit_transform(labels)\n",
    "\n",
    "predicted_indexes = nn.predict_classes(features)\n",
    "predicted_labels = le.inverse_transform(predicted_indexes)\n",
    "\n",
    "(predicted_labels == labels).mean()"
   ]
  },
  {
   "cell_type": "markdown",
   "metadata": {},
   "source": [
    "### 5) Перекодируйте исходные метки классов по схеме one-hot."
   ]
  },
  {
   "cell_type": "code",
   "execution_count": 10,
   "metadata": {},
   "outputs": [
    {
     "name": "stdout",
     "output_type": "stream",
     "text": [
      "[10 10 10 10 10 10 10]\n",
      "[[0. 0. 0. 0. 0. 0. 0. 0. 0. 1.]\n",
      " [0. 0. 0. 0. 0. 0. 0. 0. 0. 1.]\n",
      " [0. 0. 0. 0. 0. 0. 0. 0. 0. 1.]\n",
      " [0. 0. 0. 0. 0. 0. 0. 0. 0. 1.]\n",
      " [0. 0. 0. 0. 0. 0. 0. 0. 0. 1.]\n",
      " [0. 0. 0. 0. 0. 0. 0. 0. 0. 1.]\n",
      " [0. 0. 0. 0. 0. 0. 0. 0. 0. 1.]]\n"
     ]
    }
   ],
   "source": [
    "labels_onehot = np.zeros((labels.shape[0], labels_indexes.max() + 1))\n",
    "labels_onehot[np.arange(labels.shape[0]), labels_indexes] = 1\n",
    "\n",
    "print(labels[:7])\n",
    "print(labels_onehot[:7])"
   ]
  },
  {
   "cell_type": "markdown",
   "metadata": {},
   "source": [
    "### 6) Реализуйте функцию стоимости для данной нейронной сети.\n",
    "### 7) Добавьте L2-регуляризацию в функцию стоимости."
   ]
  },
  {
   "cell_type": "code",
   "execution_count": 38,
   "metadata": {},
   "outputs": [],
   "source": [
    "@np.vectorize\n",
    "def hack_log(x):\n",
    "    return np.log(x) if x != 0 else 0\n",
    "\n",
    "def loss(y_pred, y_true):\n",
    "    y_pred, y_true = np.array(y_pred), np.array(y_true)\n",
    "    if np.isnan(-(y_true * hack_log(y_pred) + (1-y_true) * hack_log(1-y_pred)).mean()):\n",
    "        print(y_pred)\n",
    "        print(y_true)\n",
    "    return -(y_true * hack_log(y_pred) + (1-y_true) * hack_log(1-y_pred)).mean()\n",
    "\n",
    "\n",
    "def cost_function_l2(prediction_onehot, y_onehot, b, w, lambda_):\n",
    "    y_onehot = np.asarray(y_onehot)\n",
    "    prediction_onehot = np.asarray(prediction_onehot)\n",
    "    b = np.concatenate([bi.flatten() for bi in b]).flatten()\n",
    "    w = np.concatenate([wi.flatten() for wi in w]).flatten()\n",
    "    wb = np.concatenate([w, b]).flatten()\n",
    "    loss_values = -(y_onehot * hack_log(prediction_onehot) + (1-y_onehot) * hack_log(1-prediction_onehot))\n",
    "    loss_value = loss_values.sum()\n",
    "    l2_value = 1/2*lambda_ * (wb ** 2).sum()\n",
    "    return loss_value / loss_values.shape[0] + l2_value\n",
    "#     return ((y_onehot - prediction_onehot).sum(axis=1) ** 2).mean() \\\n",
    "#             + 1/2*lambda_ * (wb ** 2).sum()"
   ]
  },
  {
   "cell_type": "markdown",
   "metadata": {},
   "source": [
    "### 12) Добавьте L2-регуляризацию в процесс вычисления градиентов."
   ]
  },
  {
   "cell_type": "code",
   "execution_count": 39,
   "metadata": {},
   "outputs": [],
   "source": [
    "class RegularizedNetwork(Network):\n",
    "    def __init__(self, sizes, output=True, l2=0, backprop_strategy='analitic'):\n",
    "        super().__init__(sizes, output)\n",
    "        self.l2 = l2\n",
    "        self.backprop_strategy = backprop_strategy\n",
    "        \n",
    "    def update_mini_batch(self, mini_batch, eta):\n",
    "        \"\"\"\n",
    "        Обновить веса и смещения нейронной сети, сделав шаг градиентного\n",
    "        спуска на основе алгоритма обратного распространения ошибки, примененного\n",
    "        к одному mini batch. Учесть штраф L2.\n",
    "        ``mini_batch`` - список кортежей вида ``(x, y)``,\n",
    "        ``eta`` - величина шага (learning rate).\n",
    "        \"\"\"\n",
    "        \n",
    "        nabla_b = [np.zeros(b.shape) for b in self.biases]\n",
    "        nabla_w = [np.zeros(w.shape) for w in self.weights]\n",
    "        for x, y in mini_batch:\n",
    "            if self.backprop_strategy == 'analitic':\n",
    "                delta_nabla_b, delta_nabla_w = self.backprop(x, y)\n",
    "            elif self.backprop_strategy == 'numeric':\n",
    "                delta_nabla_b, delta_nabla_w = self.backprop(x, y)\n",
    "            nabla_b = [nb+dnb for nb, dnb in zip(nabla_b, delta_nabla_b)]\n",
    "            nabla_w = [nw+dnw for nw, dnw in zip(nabla_w, delta_nabla_w)]\n",
    "            \n",
    "        eps = eta / len(mini_batch)\n",
    "        self.weights = [w - eps * nw - self.l2 * w for w, nw in zip(self.weights, nabla_w)]\n",
    "        self.biases  = [b - eps * nb for b, nb in zip(self.biases,  nabla_b)]\n",
    "    \n",
    "    def numerical_backprop(self, x, y, eps=1e-4):\n",
    "        \"\"\"\n",
    "        Возвращает кортеж ``(nabla_b, nabla_w)`` - ЧИСЛЕННЫЙ градиент целевой функции\n",
    "        по всем параметрам сети. ``nabla_b`` и ``nabla_w`` - послойные списки массивов ndarray,\n",
    "        такие же, как self.biases и self.weights соответственно.\n",
    "        \"\"\"\n",
    "\n",
    "        nabla_b = [np.zeros(b.shape) for b in self.biases]\n",
    "        nabla_w = [np.zeros(w.shape) for w in self.weights]\n",
    "             \n",
    "        J0 = cost_function_l2(self.predict([x]), [y], self.biases, self.weights, self.l2)\n",
    "        \n",
    "        for i in range(len(nabla_b)):\n",
    "            for j in range(len(nabla_b[i])):\n",
    "                for k in range(len(nabla_b[i][j])):\n",
    "                    self.biases[i][j][k] += eps\n",
    "                    J1 = cost_function_l2(self.predict([x]), [y], self.biases, self.weights, self.l2)\n",
    "                    self.biases[i][j][k] -= eps\n",
    "                    nabla_b[i][j][k] = (J1 - J0) / eps\n",
    "        \n",
    "        for i in range(len(nabla_w)):\n",
    "            for j in range(len(nabla_w[i])):\n",
    "                for k in range(len(nabla_w[i][j])):\n",
    "                    self.weights[i][j][k] += eps\n",
    "                    J1 = cost_function_l2(self.predict([x]), [y], self.biases, self.weights, self.l2)\n",
    "                    self.weights[i][j][k] -= eps\n",
    "                    nabla_w[i][j][k] = (J1 - J0) / eps\n",
    "        \n",
    "        return nabla_b, nabla_w"
   ]
  },
  {
   "cell_type": "markdown",
   "metadata": {},
   "source": [
    "### 11) Для того, чтобы удостоверится в правильности вычисленных значений градиентов используйте метод проверки градиента с параметром ε = 10-4."
   ]
  },
  {
   "cell_type": "code",
   "execution_count": 13,
   "metadata": {},
   "outputs": [],
   "source": [
    "x_, y_ = features[0], labels_onehot[0]\n",
    "x, y = x_[:, np.newaxis], y_[:, np.newaxis]\n",
    "\n",
    "nn_l2 = RegularizedNetwork([400, 25, 10], l2=0.0001)\n",
    "\n",
    "delta_nabla_b, delta_nabla_w = nn_l2.backprop(x, y)\n",
    "# print(delta_nabla_b[0].shape, delta_nabla_b[1].shape)\n",
    "# print(delta_nabla_w[0].shape, delta_nabla_w[1].shape)\n",
    "\n",
    "# nn_l2 = RegularizedNetwork([400, 25, 10], l2=0.0001)\n",
    "num_delta_nabla_b, num_delta_nabla_w = nn_l2.numerical_backprop(x_, y_, eps=1e-4)"
   ]
  },
  {
   "cell_type": "code",
   "execution_count": 14,
   "metadata": {},
   "outputs": [],
   "source": [
    "def unit_vector(vector):\n",
    "    return vector / np.linalg.norm(vector)\n",
    "\n",
    "def angle_between(v1, v2):\n",
    "    v1_u = unit_vector(v1)\n",
    "    v2_u = unit_vector(v2)\n",
    "    return np.degrees(np.arccos(np.clip(np.dot(v1_u, v2_u), -1.0, 1.0)))"
   ]
  },
  {
   "cell_type": "code",
   "execution_count": 15,
   "metadata": {},
   "outputs": [
    {
     "data": {
      "text/plain": [
       "51.31754862955253"
      ]
     },
     "execution_count": 15,
     "metadata": {},
     "output_type": "execute_result"
    }
   ],
   "source": [
    "lst = []\n",
    "\n",
    "for i in range(len(delta_nabla_w)):\n",
    "    for j in range(len(delta_nabla_w[i])):\n",
    "        angle = angle_between(delta_nabla_w[i][j], num_delta_nabla_w[i][j])\n",
    "        lst.append(angle)\n",
    "\n",
    "np.mean(lst)"
   ]
  },
  {
   "cell_type": "code",
   "execution_count": 16,
   "metadata": {},
   "outputs": [
    {
     "data": {
      "text/plain": [
       "41.31244921785192"
      ]
     },
     "execution_count": 16,
     "metadata": {},
     "output_type": "execute_result"
    }
   ],
   "source": [
    "lst = []\n",
    "\n",
    "for i in range(len(delta_nabla_b)):\n",
    "    angle = angle_between(delta_nabla_b[i].T[0], num_delta_nabla_b[i].T[0])\n",
    "    lst.append(angle)    \n",
    "\n",
    "np.mean(lst)"
   ]
  },
  {
   "cell_type": "markdown",
   "metadata": {},
   "source": [
    "### 14) Обучите нейронную сеть с использованием градиентного спуска или других более эффективных методов оптимизации."
   ]
  },
  {
   "cell_type": "code",
   "execution_count": 17,
   "metadata": {},
   "outputs": [],
   "source": [
    "from sklearn.model_selection import train_test_split\n",
    "\n",
    "train_features, test_features, train_labels_onehot, test_labels_onehot = \\\n",
    "    train_test_split(features, labels_onehot, test_size=0.2, stratify=labels, random_state=42)\n",
    "\n",
    "train_data = list(zip(train_features, train_labels_onehot))\n",
    "test_data = list(zip(test_features, test_labels_onehot))"
   ]
  },
  {
   "cell_type": "code",
   "execution_count": 60,
   "metadata": {},
   "outputs": [
    {
     "name": "stdout",
     "output_type": "stream",
     "text": [
      "Эпоха 0 \t train: 0.1985 \t test: 0.204\n",
      "Эпоха 1 \t train: 0.3167 \t test: 0.328\n",
      "Эпоха 2 \t train: 0.3713 \t test: 0.381\n",
      "Эпоха 3 \t train: 0.4193 \t test: 0.419\n",
      "Эпоха 4 \t train: 0.463 \t test: 0.459\n",
      "Эпоха 5 \t train: 0.4975 \t test: 0.492\n",
      "Эпоха 6 \t train: 0.5335 \t test: 0.528\n",
      "Эпоха 7 \t train: 0.5593 \t test: 0.566\n",
      "Эпоха 8 \t train: 0.5857 \t test: 0.604\n",
      "Эпоха 9 \t train: 0.6172 \t test: 0.633\n"
     ]
    },
    {
     "data": {
      "text/plain": [
       "0.633"
      ]
     },
     "execution_count": 60,
     "metadata": {},
     "output_type": "execute_result"
    }
   ],
   "source": [
    "nn_l2 = RegularizedNetwork([400, 25, 10], l2=0.0001, backprop_strategy='analitic')\n",
    "nn_l2.SGD(train_data, eta=0.5, mini_batch_size=32, epochs=10, test_data=test_data)"
   ]
  },
  {
   "cell_type": "code",
   "execution_count": 57,
   "metadata": {},
   "outputs": [
    {
     "name": "stdout",
     "output_type": "stream",
     "text": [
      "Эпоха 0 \t train: 0.269 \t test: 0.287\n",
      "Эпоха 1 \t train: 0.3932 \t test: 0.417\n",
      "Эпоха 2 \t train: 0.4835 \t test: 0.513\n",
      "Эпоха 3 \t train: 0.554 \t test: 0.56\n",
      "Эпоха 4 \t train: 0.6135 \t test: 0.635\n",
      "Эпоха 5 \t train: 0.6747 \t test: 0.672\n",
      "Эпоха 6 \t train: 0.715 \t test: 0.715\n",
      "Эпоха 7 \t train: 0.7468 \t test: 0.741\n",
      "Эпоха 8 \t train: 0.7632 \t test: 0.76\n",
      "Эпоха 9 \t train: 0.7755 \t test: 0.777\n"
     ]
    },
    {
     "data": {
      "text/plain": [
       "0.777"
      ]
     },
     "execution_count": 57,
     "metadata": {},
     "output_type": "execute_result"
    }
   ],
   "source": [
    "nn_l2 = RegularizedNetwork([400, 25, 10], l2=0.0001, backprop_strategy='numeric')\n",
    "nn_l2.SGD(train_data, eta=0.5, mini_batch_size=32, epochs=10, test_data=test_data)"
   ]
  },
  {
   "cell_type": "markdown",
   "metadata": {},
   "source": [
    "### 16) Визуализируйте скрытый слой обученной сети."
   ]
  },
  {
   "cell_type": "code",
   "execution_count": 61,
   "metadata": {},
   "outputs": [
    {
     "name": "stdout",
     "output_type": "stream",
     "text": [
      "10\n"
     ]
    },
    {
     "data": {
      "image/png": "[encoded data removed]",
      "text/plain": [
       "<Figure size 432x288 with 1 Axes>"
      ]
     },
     "metadata": {
      "needs_background": "light"
     },
     "output_type": "display_data"
    },
    {
     "name": "stdout",
     "output_type": "stream",
     "text": [
      "3\n"
     ]
    },
    {
     "data": {
      "image/png": "[encoded data removed]",
      "text/plain": [
       "<Figure size 432x288 with 1 Axes>"
      ]
     },
     "metadata": {
      "needs_background": "light"
     },
     "output_type": "display_data"
    },
    {
     "name": "stdout",
     "output_type": "stream",
     "text": [
      "6\n"
     ]
    },
    {
     "data": {
      "image/png": "[encoded data removed]",
      "text/plain": [
       "<Figure size 432x288 with 1 Axes>"
      ]
     },
     "metadata": {
      "needs_background": "light"
     },
     "output_type": "display_data"
    },
    {
     "name": "stdout",
     "output_type": "stream",
     "text": [
      "9\n"
     ]
    },
    {
     "data": {
      "image/png": "[encoded data removed]",
      "text/plain": [
       "<Figure size 432x288 with 1 Axes>"
      ]
     },
     "metadata": {
      "needs_background": "light"
     },
     "output_type": "display_data"
    }
   ],
   "source": [
    "for i in [0, 1500, 3000, 4500]:\n",
    "    a1 = nn_l2.feedforward(features[i], layer_i=0).reshape((5,5))\n",
    "    print(labels[i])\n",
    "    plt.imshow(a1)\n",
    "    plt.show()"
   ]
  },
  {
   "cell_type": "markdown",
   "metadata": {},
   "source": [
    "### 15) Вычислите процент правильных классификаций на обучающей выборке.\n",
    "### 17) Подберите параметр регуляризации. Как меняются изображения на скрытом слое в зависимости от данного параметра?"
   ]
  },
  {
   "cell_type": "code",
   "execution_count": 45,
   "metadata": {},
   "outputs": [
    {
     "name": "stdout",
     "output_type": "stream",
     "text": [
      "Эпоха 0 \t train: 0.224 \t test: 0.222\n",
      "Эпоха 1 \t train: 0.4022 \t test: 0.391\n",
      "Эпоха 2 \t train: 0.483 \t test: 0.487\n",
      "Эпоха 3 \t train: 0.4078 \t test: 0.394\n",
      "Эпоха 4 \t train: 0.37 \t test: 0.373\n",
      "Эпоха 5 \t train: 0.2983 \t test: 0.293\n",
      "Эпоха 6 \t train: 0.2845 \t test: 0.287\n",
      "Эпоха 7 \t train: 0.295 \t test: 0.299\n",
      "Эпоха 8 \t train: 0.2575 \t test: 0.257\n",
      "Эпоха 9 \t train: 0.225 \t test: 0.223\n"
     ]
    },
    {
     "data": {
      "text/plain": [
       "0.223"
      ]
     },
     "execution_count": 45,
     "metadata": {},
     "output_type": "execute_result"
    }
   ],
   "source": [
    "nn_l2 = RegularizedNetwork([400, 25, 10], l2=0.005, backprop_strategy='analitic')\n",
    "nn_l2.SGD(train_data, eta=0.5, mini_batch_size=32, epochs=10, test_data=test_data)"
   ]
  },
  {
   "cell_type": "code",
   "execution_count": 46,
   "metadata": {},
   "outputs": [
    {
     "name": "stdout",
     "output_type": "stream",
     "text": [
      "Эпоха 0 \t train: 0.2555 \t test: 0.254\n",
      "Эпоха 1 \t train: 0.3945 \t test: 0.409\n",
      "Эпоха 2 \t train: 0.5178 \t test: 0.519\n",
      "Эпоха 3 \t train: 0.6055 \t test: 0.613\n",
      "Эпоха 4 \t train: 0.6552 \t test: 0.657\n",
      "Эпоха 5 \t train: 0.7103 \t test: 0.709\n",
      "Эпоха 6 \t train: 0.7465 \t test: 0.728\n",
      "Эпоха 7 \t train: 0.7845 \t test: 0.769\n",
      "Эпоха 8 \t train: 0.8025 \t test: 0.79\n",
      "Эпоха 9 \t train: 0.8173 \t test: 0.808\n",
      "Эпоха 10 \t train: 0.8415 \t test: 0.835\n",
      "Эпоха 11 \t train: 0.8498 \t test: 0.846\n",
      "Эпоха 12 \t train: 0.8538 \t test: 0.846\n",
      "Эпоха 13 \t train: 0.8612 \t test: 0.854\n",
      "Эпоха 14 \t train: 0.864 \t test: 0.857\n",
      "Эпоха 15 \t train: 0.8705 \t test: 0.862\n",
      "Эпоха 16 \t train: 0.8752 \t test: 0.863\n",
      "Эпоха 17 \t train: 0.872 \t test: 0.867\n",
      "Эпоха 18 \t train: 0.88 \t test: 0.876\n",
      "Эпоха 19 \t train: 0.8798 \t test: 0.878\n",
      "Эпоха 20 \t train: 0.8815 \t test: 0.874\n",
      "Эпоха 21 \t train: 0.8768 \t test: 0.87\n",
      "Эпоха 22 \t train: 0.8878 \t test: 0.878\n",
      "Эпоха 23 \t train: 0.8852 \t test: 0.875\n",
      "Эпоха 24 \t train: 0.8842 \t test: 0.881\n",
      "Эпоха 25 \t train: 0.8855 \t test: 0.888\n",
      "Эпоха 26 \t train: 0.886 \t test: 0.886\n",
      "Эпоха 27 \t train: 0.888 \t test: 0.883\n",
      "Эпоха 28 \t train: 0.8908 \t test: 0.884\n",
      "Эпоха 29 \t train: 0.8882 \t test: 0.886\n"
     ]
    },
    {
     "data": {
      "text/plain": [
       "0.886"
      ]
     },
     "execution_count": 46,
     "metadata": {},
     "output_type": "execute_result"
    }
   ],
   "source": [
    "nn_l2 = RegularizedNetwork([400, 25, 10], l2=0.001, backprop_strategy='analitic')\n",
    "nn_l2.SGD(train_data, eta=0.5, mini_batch_size=32, epochs=30, test_data=test_data)"
   ]
  },
  {
   "cell_type": "code",
   "execution_count": 47,
   "metadata": {},
   "outputs": [
    {
     "name": "stdout",
     "output_type": "stream",
     "text": [
      "Эпоха 0 \t train: 0.207 \t test: 0.202\n",
      "Эпоха 1 \t train: 0.3152 \t test: 0.316\n",
      "Эпоха 2 \t train: 0.408 \t test: 0.415\n",
      "Эпоха 3 \t train: 0.4948 \t test: 0.508\n",
      "Эпоха 4 \t train: 0.5925 \t test: 0.604\n",
      "Эпоха 5 \t train: 0.6655 \t test: 0.666\n",
      "Эпоха 6 \t train: 0.699 \t test: 0.708\n",
      "Эпоха 7 \t train: 0.7302 \t test: 0.74\n",
      "Эпоха 8 \t train: 0.7678 \t test: 0.771\n",
      "Эпоха 9 \t train: 0.7877 \t test: 0.784\n",
      "Эпоха 10 \t train: 0.8065 \t test: 0.804\n",
      "Эпоха 11 \t train: 0.8225 \t test: 0.817\n",
      "Эпоха 12 \t train: 0.8383 \t test: 0.845\n",
      "Эпоха 13 \t train: 0.8518 \t test: 0.849\n",
      "Эпоха 14 \t train: 0.8522 \t test: 0.854\n",
      "Эпоха 15 \t train: 0.8638 \t test: 0.861\n",
      "Эпоха 16 \t train: 0.8655 \t test: 0.857\n",
      "Эпоха 17 \t train: 0.8728 \t test: 0.865\n",
      "Эпоха 18 \t train: 0.869 \t test: 0.866\n",
      "Эпоха 19 \t train: 0.876 \t test: 0.875\n",
      "Эпоха 20 \t train: 0.8782 \t test: 0.875\n",
      "Эпоха 21 \t train: 0.8735 \t test: 0.872\n",
      "Эпоха 22 \t train: 0.8728 \t test: 0.87\n",
      "Эпоха 23 \t train: 0.8788 \t test: 0.876\n",
      "Эпоха 24 \t train: 0.8812 \t test: 0.883\n",
      "Эпоха 25 \t train: 0.8835 \t test: 0.871\n",
      "Эпоха 26 \t train: 0.8842 \t test: 0.881\n",
      "Эпоха 27 \t train: 0.879 \t test: 0.878\n",
      "Эпоха 28 \t train: 0.8778 \t test: 0.884\n",
      "Эпоха 29 \t train: 0.8845 \t test: 0.884\n"
     ]
    },
    {
     "data": {
      "text/plain": [
       "0.884"
      ]
     },
     "execution_count": 47,
     "metadata": {},
     "output_type": "execute_result"
    }
   ],
   "source": [
    "nn_l2 = RegularizedNetwork([400, 25, 10], l2=0.0011, backprop_strategy='analitic')\n",
    "nn_l2.SGD(train_data, eta=0.5, mini_batch_size=32, epochs=30, test_data=test_data)"
   ]
  },
  {
   "cell_type": "code",
   "execution_count": 48,
   "metadata": {},
   "outputs": [
    {
     "name": "stdout",
     "output_type": "stream",
     "text": [
      "Эпоха 0 \t train: 0.2928 \t test: 0.293\n",
      "Эпоха 1 \t train: 0.4118 \t test: 0.395\n",
      "Эпоха 2 \t train: 0.5035 \t test: 0.495\n",
      "Эпоха 3 \t train: 0.5793 \t test: 0.578\n",
      "Эпоха 4 \t train: 0.6462 \t test: 0.642\n",
      "Эпоха 5 \t train: 0.701 \t test: 0.701\n",
      "Эпоха 6 \t train: 0.743 \t test: 0.745\n",
      "Эпоха 7 \t train: 0.7622 \t test: 0.753\n",
      "Эпоха 8 \t train: 0.785 \t test: 0.78\n",
      "Эпоха 9 \t train: 0.7975 \t test: 0.796\n",
      "Эпоха 10 \t train: 0.8137 \t test: 0.806\n",
      "Эпоха 11 \t train: 0.8273 \t test: 0.832\n",
      "Эпоха 12 \t train: 0.8427 \t test: 0.847\n",
      "Эпоха 13 \t train: 0.8512 \t test: 0.85\n",
      "Эпоха 14 \t train: 0.8612 \t test: 0.858\n",
      "Эпоха 15 \t train: 0.8658 \t test: 0.86\n",
      "Эпоха 16 \t train: 0.8742 \t test: 0.877\n",
      "Эпоха 17 \t train: 0.875 \t test: 0.875\n",
      "Эпоха 18 \t train: 0.876 \t test: 0.875\n",
      "Эпоха 19 \t train: 0.8788 \t test: 0.875\n",
      "Эпоха 20 \t train: 0.8818 \t test: 0.887\n",
      "Эпоха 21 \t train: 0.8825 \t test: 0.88\n",
      "Эпоха 22 \t train: 0.887 \t test: 0.887\n",
      "Эпоха 23 \t train: 0.8838 \t test: 0.881\n",
      "Эпоха 24 \t train: 0.8928 \t test: 0.885\n",
      "Эпоха 25 \t train: 0.8858 \t test: 0.882\n",
      "Эпоха 26 \t train: 0.8888 \t test: 0.886\n",
      "Эпоха 27 \t train: 0.8905 \t test: 0.881\n",
      "Эпоха 28 \t train: 0.89 \t test: 0.884\n",
      "Эпоха 29 \t train: 0.892 \t test: 0.881\n"
     ]
    },
    {
     "data": {
      "text/plain": [
       "0.881"
      ]
     },
     "execution_count": 48,
     "metadata": {},
     "output_type": "execute_result"
    }
   ],
   "source": [
    "nn_l2 = RegularizedNetwork([400, 25, 10], l2=0.0009, backprop_strategy='analitic')\n",
    "nn_l2.SGD(train_data, eta=0.5, mini_batch_size=32, epochs=30, test_data=test_data)"
   ]
  },
  {
   "cell_type": "code",
   "execution_count": 49,
   "metadata": {},
   "outputs": [
    {
     "name": "stdout",
     "output_type": "stream",
     "text": [
      "Эпоха 0 \t train: 0.2427 \t test: 0.239\n",
      "Эпоха 1 \t train: 0.3483 \t test: 0.348\n",
      "Эпоха 2 \t train: 0.458 \t test: 0.449\n",
      "Эпоха 3 \t train: 0.521 \t test: 0.507\n",
      "Эпоха 4 \t train: 0.584 \t test: 0.579\n",
      "Эпоха 5 \t train: 0.644 \t test: 0.633\n",
      "Эпоха 6 \t train: 0.6867 \t test: 0.679\n",
      "Эпоха 7 \t train: 0.7532 \t test: 0.748\n",
      "Эпоха 8 \t train: 0.7823 \t test: 0.782\n",
      "Эпоха 9 \t train: 0.8043 \t test: 0.805\n",
      "Эпоха 10 \t train: 0.834 \t test: 0.833\n",
      "Эпоха 11 \t train: 0.838 \t test: 0.838\n",
      "Эпоха 12 \t train: 0.854 \t test: 0.855\n",
      "Эпоха 13 \t train: 0.8383 \t test: 0.839\n",
      "Эпоха 14 \t train: 0.8572 \t test: 0.854\n",
      "Эпоха 15 \t train: 0.8715 \t test: 0.868\n",
      "Эпоха 16 \t train: 0.8702 \t test: 0.871\n",
      "Эпоха 17 \t train: 0.874 \t test: 0.866\n",
      "Эпоха 18 \t train: 0.8705 \t test: 0.864\n",
      "Эпоха 19 \t train: 0.8798 \t test: 0.879\n",
      "Эпоха 20 \t train: 0.8758 \t test: 0.869\n",
      "Эпоха 21 \t train: 0.8818 \t test: 0.876\n",
      "Эпоха 22 \t train: 0.878 \t test: 0.868\n",
      "Эпоха 23 \t train: 0.8805 \t test: 0.873\n",
      "Эпоха 24 \t train: 0.884 \t test: 0.881\n",
      "Эпоха 25 \t train: 0.8858 \t test: 0.881\n",
      "Эпоха 26 \t train: 0.8925 \t test: 0.885\n",
      "Эпоха 27 \t train: 0.8912 \t test: 0.887\n",
      "Эпоха 28 \t train: 0.8895 \t test: 0.889\n",
      "Эпоха 29 \t train: 0.8852 \t test: 0.886\n"
     ]
    },
    {
     "data": {
      "text/plain": [
       "0.886"
      ]
     },
     "execution_count": 49,
     "metadata": {},
     "output_type": "execute_result"
    }
   ],
   "source": [
    "nn_l2 = RegularizedNetwork([400, 25, 10], l2=0.000975, backprop_strategy='analitic')\n",
    "nn_l2.SGD(train_data, eta=0.5, mini_batch_size=32, epochs=30, test_data=test_data)"
   ]
  },
  {
   "cell_type": "code",
   "execution_count": 50,
   "metadata": {},
   "outputs": [
    {
     "name": "stdout",
     "output_type": "stream",
     "text": [
      "Эпоха 0 \t train: 0.2265 \t test: 0.224\n",
      "Эпоха 1 \t train: 0.3135 \t test: 0.315\n",
      "Эпоха 2 \t train: 0.4015 \t test: 0.4\n",
      "Эпоха 3 \t train: 0.469 \t test: 0.466\n",
      "Эпоха 4 \t train: 0.5252 \t test: 0.527\n",
      "Эпоха 5 \t train: 0.559 \t test: 0.553\n",
      "Эпоха 6 \t train: 0.6242 \t test: 0.621\n",
      "Эпоха 7 \t train: 0.6863 \t test: 0.673\n",
      "Эпоха 8 \t train: 0.7472 \t test: 0.736\n",
      "Эпоха 9 \t train: 0.767 \t test: 0.76\n",
      "Эпоха 10 \t train: 0.807 \t test: 0.798\n",
      "Эпоха 11 \t train: 0.8247 \t test: 0.816\n",
      "Эпоха 12 \t train: 0.8383 \t test: 0.822\n",
      "Эпоха 13 \t train: 0.8485 \t test: 0.842\n",
      "Эпоха 14 \t train: 0.8522 \t test: 0.844\n",
      "Эпоха 15 \t train: 0.8658 \t test: 0.858\n",
      "Эпоха 16 \t train: 0.869 \t test: 0.865\n",
      "Эпоха 17 \t train: 0.8765 \t test: 0.875\n",
      "Эпоха 18 \t train: 0.8805 \t test: 0.878\n",
      "Эпоха 19 \t train: 0.8825 \t test: 0.882\n",
      "Эпоха 20 \t train: 0.8875 \t test: 0.884\n",
      "Эпоха 21 \t train: 0.885 \t test: 0.883\n",
      "Эпоха 22 \t train: 0.8905 \t test: 0.888\n",
      "Эпоха 23 \t train: 0.8915 \t test: 0.883\n",
      "Эпоха 24 \t train: 0.8975 \t test: 0.899\n",
      "Эпоха 25 \t train: 0.8968 \t test: 0.894\n",
      "Эпоха 26 \t train: 0.8965 \t test: 0.895\n",
      "Эпоха 27 \t train: 0.899 \t test: 0.891\n",
      "Эпоха 28 \t train: 0.8998 \t test: 0.897\n",
      "Эпоха 29 \t train: 0.9008 \t test: 0.899\n"
     ]
    },
    {
     "data": {
      "text/plain": [
       "0.899"
      ]
     },
     "execution_count": 50,
     "metadata": {},
     "output_type": "execute_result"
    }
   ],
   "source": [
    "nn_l2 = RegularizedNetwork([400, 25, 10], l2=0.0005, backprop_strategy='analitic')\n",
    "nn_l2.SGD(train_data, eta=0.5, mini_batch_size=32, epochs=30, test_data=test_data)"
   ]
  },
  {
   "cell_type": "code",
   "execution_count": 63,
   "metadata": {},
   "outputs": [
    {
     "name": "stdout",
     "output_type": "stream",
     "text": [
      "Эпоха 0 \t train: 0.286 \t test: 0.285\n",
      "Эпоха 1 \t train: 0.3603 \t test: 0.361\n",
      "Эпоха 2 \t train: 0.4315 \t test: 0.436\n",
      "Эпоха 3 \t train: 0.4825 \t test: 0.49\n",
      "Эпоха 4 \t train: 0.524 \t test: 0.535\n",
      "Эпоха 5 \t train: 0.561 \t test: 0.577\n",
      "Эпоха 6 \t train: 0.5958 \t test: 0.608\n",
      "Эпоха 7 \t train: 0.6355 \t test: 0.634\n",
      "Эпоха 8 \t train: 0.674 \t test: 0.691\n",
      "Эпоха 9 \t train: 0.708 \t test: 0.724\n",
      "Эпоха 10 \t train: 0.7318 \t test: 0.741\n",
      "Эпоха 11 \t train: 0.7465 \t test: 0.766\n",
      "Эпоха 12 \t train: 0.7642 \t test: 0.773\n",
      "Эпоха 13 \t train: 0.7778 \t test: 0.777\n",
      "Эпоха 14 \t train: 0.7887 \t test: 0.787\n",
      "Эпоха 15 \t train: 0.7997 \t test: 0.801\n",
      "Эпоха 16 \t train: 0.813 \t test: 0.805\n",
      "Эпоха 17 \t train: 0.8187 \t test: 0.822\n",
      "Эпоха 18 \t train: 0.8273 \t test: 0.824\n",
      "Эпоха 19 \t train: 0.8313 \t test: 0.833\n",
      "Эпоха 20 \t train: 0.8343 \t test: 0.828\n",
      "Эпоха 21 \t train: 0.8415 \t test: 0.837\n",
      "Эпоха 22 \t train: 0.8435 \t test: 0.839\n",
      "Эпоха 23 \t train: 0.8498 \t test: 0.84\n",
      "Эпоха 24 \t train: 0.8518 \t test: 0.844\n",
      "Эпоха 25 \t train: 0.8562 \t test: 0.844\n",
      "Эпоха 26 \t train: 0.8582 \t test: 0.849\n",
      "Эпоха 27 \t train: 0.8615 \t test: 0.851\n",
      "Эпоха 28 \t train: 0.8658 \t test: 0.856\n",
      "Эпоха 29 \t train: 0.8675 \t test: 0.856\n"
     ]
    },
    {
     "data": {
      "text/plain": [
       "0.856"
      ]
     },
     "execution_count": 63,
     "metadata": {},
     "output_type": "execute_result"
    }
   ],
   "source": [
    "nn_l2 = RegularizedNetwork([400, 25, 10], l2=0.00005, backprop_strategy='analitic')\n",
    "nn_l2.SGD(train_data, eta=0.5, mini_batch_size=32, epochs=30, test_data=test_data)"
   ]
  },
  {
   "cell_type": "code",
   "execution_count": 67,
   "metadata": {},
   "outputs": [
    {
     "name": "stdout",
     "output_type": "stream",
     "text": [
      "Эпоха 0 \t train: 0.2472 \t test: 0.246\n",
      "Эпоха 1 \t train: 0.396 \t test: 0.405\n",
      "Эпоха 2 \t train: 0.5138 \t test: 0.525\n",
      "Эпоха 3 \t train: 0.6248 \t test: 0.617\n",
      "Эпоха 4 \t train: 0.6897 \t test: 0.681\n",
      "Эпоха 5 \t train: 0.76 \t test: 0.758\n",
      "Эпоха 6 \t train: 0.7947 \t test: 0.781\n",
      "Эпоха 7 \t train: 0.8227 \t test: 0.805\n",
      "Эпоха 8 \t train: 0.8335 \t test: 0.816\n",
      "Эпоха 9 \t train: 0.847 \t test: 0.832\n",
      "Эпоха 10 \t train: 0.8602 \t test: 0.843\n",
      "Эпоха 11 \t train: 0.8648 \t test: 0.849\n",
      "Эпоха 12 \t train: 0.8765 \t test: 0.856\n",
      "Эпоха 13 \t train: 0.8785 \t test: 0.866\n",
      "Эпоха 14 \t train: 0.883 \t test: 0.859\n",
      "Эпоха 15 \t train: 0.8882 \t test: 0.868\n",
      "Эпоха 16 \t train: 0.892 \t test: 0.868\n",
      "Эпоха 17 \t train: 0.8928 \t test: 0.876\n",
      "Эпоха 18 \t train: 0.9005 \t test: 0.881\n",
      "Эпоха 19 \t train: 0.902 \t test: 0.877\n",
      "Эпоха 20 \t train: 0.9067 \t test: 0.884\n",
      "Эпоха 21 \t train: 0.9105 \t test: 0.881\n",
      "Эпоха 22 \t train: 0.9135 \t test: 0.888\n",
      "Эпоха 23 \t train: 0.915 \t test: 0.889\n",
      "Эпоха 24 \t train: 0.9193 \t test: 0.896\n",
      "Эпоха 25 \t train: 0.919 \t test: 0.896\n",
      "Эпоха 26 \t train: 0.9217 \t test: 0.895\n",
      "Эпоха 27 \t train: 0.922 \t test: 0.895\n",
      "Эпоха 28 \t train: 0.9253 \t test: 0.901\n",
      "Эпоха 29 \t train: 0.9267 \t test: 0.9\n"
     ]
    },
    {
     "data": {
      "text/plain": [
       "0.9"
      ]
     },
     "execution_count": 67,
     "metadata": {},
     "output_type": "execute_result"
    }
   ],
   "source": [
    "nn_l2 = RegularizedNetwork([400, 25, 10], l2=0.00001, backprop_strategy='analitic')\n",
    "nn_l2.SGD(train_data, eta=0.75, mini_batch_size=16, epochs=30, test_data=test_data)"
   ]
  },
  {
   "cell_type": "code",
   "execution_count": 72,
   "metadata": {},
   "outputs": [
    {
     "name": "stdout",
     "output_type": "stream",
     "text": [
      "Эпоха 0 \t train: 0.8015 \t test: 0.789\n",
      "Эпоха 1 \t train: 0.872 \t test: 0.853\n",
      "Эпоха 2 \t train: 0.9062 \t test: 0.893\n",
      "Эпоха 3 \t train: 0.9167 \t test: 0.9\n",
      "Эпоха 4 \t train: 0.9305 \t test: 0.921\n",
      "Эпоха 5 \t train: 0.9305 \t test: 0.91\n",
      "Эпоха 6 \t train: 0.936 \t test: 0.915\n",
      "Эпоха 7 \t train: 0.9453 \t test: 0.919\n",
      "Эпоха 8 \t train: 0.9475 \t test: 0.923\n",
      "Эпоха 9 \t train: 0.9533 \t test: 0.923\n",
      "Эпоха 10 \t train: 0.9553 \t test: 0.926\n",
      "Эпоха 11 \t train: 0.957 \t test: 0.922\n",
      "Эпоха 12 \t train: 0.959 \t test: 0.922\n",
      "Эпоха 13 \t train: 0.963 \t test: 0.925\n",
      "Эпоха 14 \t train: 0.9653 \t test: 0.925\n",
      "Эпоха 15 \t train: 0.9663 \t test: 0.925\n",
      "Эпоха 16 \t train: 0.9657 \t test: 0.924\n",
      "Эпоха 17 \t train: 0.9698 \t test: 0.932\n",
      "Эпоха 18 \t train: 0.9712 \t test: 0.922\n",
      "Эпоха 19 \t train: 0.9715 \t test: 0.928\n",
      "Эпоха 20 \t train: 0.9715 \t test: 0.928\n",
      "Эпоха 21 \t train: 0.9708 \t test: 0.927\n",
      "Эпоха 22 \t train: 0.9698 \t test: 0.924\n",
      "Эпоха 23 \t train: 0.9748 \t test: 0.927\n",
      "Эпоха 24 \t train: 0.9745 \t test: 0.93\n",
      "Эпоха 25 \t train: 0.9745 \t test: 0.935\n",
      "Эпоха 26 \t train: 0.975 \t test: 0.934\n",
      "Эпоха 27 \t train: 0.9758 \t test: 0.931\n",
      "Эпоха 28 \t train: 0.9762 \t test: 0.935\n",
      "Эпоха 29 \t train: 0.976 \t test: 0.931\n"
     ]
    },
    {
     "data": {
      "text/plain": [
       "0.931"
      ]
     },
     "execution_count": 72,
     "metadata": {},
     "output_type": "execute_result"
    }
   ],
   "source": [
    "nn_l2 = RegularizedNetwork([400, 25, 10], l2=0.00005, backprop_strategy='analitic')\n",
    "nn_l2.SGD(train_data, eta=5, mini_batch_size=16, epochs=30, test_data=test_data)"
   ]
  },
  {
   "cell_type": "code",
   "execution_count": 75,
   "metadata": {},
   "outputs": [
    {
     "name": "stdout",
     "output_type": "stream",
     "text": [
      "Эпоха 0 \t train: 0.7254\n",
      "Эпоха 1 \t train: 0.7796\n",
      "Эпоха 2 \t train: 0.8146\n",
      "Эпоха 3 \t train: 0.8366\n",
      "Эпоха 4 \t train: 0.8382\n",
      "Эпоха 5 \t train: 0.8358\n",
      "Эпоха 6 \t train: 0.848\n",
      "Эпоха 7 \t train: 0.8528\n",
      "Эпоха 8 \t train: 0.8562\n",
      "Эпоха 9 \t train: 0.8604\n",
      "Эпоха 10 \t train: 0.8552\n",
      "Эпоха 11 \t train: 0.8638\n",
      "Эпоха 12 \t train: 0.868\n",
      "Эпоха 13 \t train: 0.8684\n",
      "Эпоха 14 \t train: 0.8704\n",
      "Эпоха 15 \t train: 0.8684\n",
      "Эпоха 16 \t train: 0.8688\n",
      "Эпоха 17 \t train: 0.8692\n",
      "Эпоха 18 \t train: 0.9668\n",
      "Эпоха 19 \t train: 0.9728\n",
      "Эпоха 20 \t train: 0.9738\n",
      "Эпоха 21 \t train: 0.9744\n",
      "Эпоха 22 \t train: 0.9728\n",
      "Эпоха 23 \t train: 0.9764\n",
      "Эпоха 24 \t train: 0.9664\n",
      "Эпоха 25 \t train: 0.9586\n",
      "Эпоха 26 \t train: 0.9782\n",
      "Эпоха 27 \t train: 0.9792\n",
      "Эпоха 28 \t train: 0.9792\n",
      "Эпоха 29 \t train: 0.9786\n"
     ]
    }
   ],
   "source": [
    "final_train_data = list(zip(features, labels_onehot))\n",
    "\n",
    "l2_best = 0.00005\n",
    "nn_l2 = RegularizedNetwork([400, 25, 10], l2=l2_best, backprop_strategy='analitic')\n",
    "nn_l2.SGD(final_train_data, eta=10, mini_batch_size=16, epochs=30)"
   ]
  },
  {
   "cell_type": "code",
   "execution_count": 76,
   "metadata": {},
   "outputs": [
    {
     "data": {
      "text/plain": [
       "0.9786"
      ]
     },
     "execution_count": 76,
     "metadata": {},
     "output_type": "execute_result"
    }
   ],
   "source": [
    "predicted_indexes = nn_l2.predict_classes(features)\n",
    "predicted_labels = le.inverse_transform(predicted_indexes)\n",
    "\n",
    "(predicted_labels == labels).mean()"
   ]
  },
  {
   "cell_type": "code",
   "execution_count": 77,
   "metadata": {},
   "outputs": [
    {
     "name": "stdout",
     "output_type": "stream",
     "text": [
      "10\n"
     ]
    },
    {
     "data": {
      "image/png": "[encoded data removed]",
      "text/plain": [
       "<Figure size 432x288 with 1 Axes>"
      ]
     },
     "metadata": {
      "needs_background": "light"
     },
     "output_type": "display_data"
    },
    {
     "name": "stdout",
     "output_type": "stream",
     "text": [
      "3\n"
     ]
    },
    {
     "data": {
      "image/png": "[encoded data removed]",
      "text/plain": [
       "<Figure size 432x288 with 1 Axes>"
      ]
     },
     "metadata": {
      "needs_background": "light"
     },
     "output_type": "display_data"
    },
    {
     "name": "stdout",
     "output_type": "stream",
     "text": [
      "6\n"
     ]
    },
    {
     "data": {
      "image/png": "[encoded data removed]",
      "text/plain": [
       "<Figure size 432x288 with 1 Axes>"
      ]
     },
     "metadata": {
      "needs_background": "light"
     },
     "output_type": "display_data"
    },
    {
     "name": "stdout",
     "output_type": "stream",
     "text": [
      "9\n"
     ]
    },
    {
     "data": {
      "image/png": "[encoded data removed]",
      "text/plain": [
       "<Figure size 432x288 with 1 Axes>"
      ]
     },
     "metadata": {
      "needs_background": "light"
     },
     "output_type": "display_data"
    }
   ],
   "source": [
    "for i in [0, 1500, 3000, 4500]:\n",
    "    a1 = nn_l2.feedforward(features[i], layer_i=0).reshape((5,5))\n",
    "    print(labels[i])\n",
    "    plt.imshow(a1)\n",
    "    plt.show()"
   ]
  }
 ],
 "metadata": {
  "kernelspec": {
   "display_name": "Python 3",
   "language": "python",
   "name": "python3"
  },
  "language_info": {
   "codemirror_mode": {
    "name": "ipython",
    "version": 3
   },
   "file_extension": ".py",
   "mimetype": "text/x-python",
   "name": "python",
   "nbconvert_exporter": "python",
   "pygments_lexer": "ipython3",
   "version": "3.6.9"
  }
 },
 "nbformat": 4,
 "nbformat_minor": 2
}
