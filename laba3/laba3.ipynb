{
 "cells": [
  {
   "cell_type": "markdown",
   "metadata": {},
   "source": [
    "#### 1) Загрузите данные ex3data1.mat из файла."
   ]
  },
  {
   "cell_type": "code",
   "execution_count": 1,
   "metadata": {},
   "outputs": [],
   "source": [
    "import os\n",
    "import numpy as np\n",
    "import pandas as pd\n",
    "import matplotlib.pyplot as plt"
   ]
  },
  {
   "cell_type": "code",
   "execution_count": 2,
   "metadata": {},
   "outputs": [],
   "source": [
    "DATA_PATH = '/home/ataleckij/Projects/university/mo/Data/Lab 3/'"
   ]
  },
  {
   "cell_type": "code",
   "execution_count": 3,
   "metadata": {},
   "outputs": [
    {
     "name": "stdout",
     "output_type": "stream",
     "text": [
      "['ex3data1.mat']\n"
     ]
    }
   ],
   "source": [
    "files_names = os.listdir(DATA_PATH)\n",
    "print(files_names)\n",
    "files_paths = [os.path.join(DATA_PATH, name) for name in files_names]"
   ]
  },
  {
   "cell_type": "code",
   "execution_count": 4,
   "metadata": {},
   "outputs": [
    {
     "name": "stdout",
     "output_type": "stream",
     "text": [
      "(12, 1) (12,)\n",
      "(21, 1) (21,)\n",
      "(21, 1) (21,)\n"
     ]
    }
   ],
   "source": [
    "from scipy.io import loadmat\n",
    "\n",
    "data = loadmat(files_paths[0])\n",
    "\n",
    "X, y = data['X'], data['y'].flatten()\n",
    "print(X.shape, y.shape)\n",
    "\n",
    "Xval, yval = data['Xval'], data['yval'].flatten()\n",
    "print(Xval.shape, yval.shape)\n",
    "\n",
    "Xtest, ytest = data['Xval'], data['yval'].flatten()\n",
    "print(Xtest.shape, ytest.shape)"
   ]
  },
  {
   "cell_type": "markdown",
   "metadata": {},
   "source": [
    "#### 2) Постройте график, где по осям откладываются X и y из обучающей выборки."
   ]
  },
  {
   "cell_type": "code",
   "execution_count": 5,
   "metadata": {},
   "outputs": [
    {
     "data": {
      "text/plain": [
       "<matplotlib.collections.PathCollection at 0x7fc60ed90358>"
      ]
     },
     "execution_count": 5,
     "metadata": {},
     "output_type": "execute_result"
    },
    {
     "data": {
      "image/png": "[encoded data removed]",
      "text/plain": [
       "<Figure size 432x288 with 1 Axes>"
      ]
     },
     "metadata": {
      "needs_background": "light"
     },
     "output_type": "display_data"
    }
   ],
   "source": [
    "plt.scatter(X.flatten(), y)"
   ]
  },
  {
   "cell_type": "markdown",
   "metadata": {},
   "source": [
    "#### 3) Реализуйте функцию стоимости потерь для линейной регрессии с L2-регуляризацией."
   ]
  },
  {
   "cell_type": "code",
   "execution_count": 6,
   "metadata": {},
   "outputs": [],
   "source": [
    "@np.vectorize\n",
    "def hack_log(x):\n",
    "    return np.log(x) if x != 0 else 0\n",
    "\n",
    "def loss_l2(y_pred, y_true, w, lambda_):\n",
    "    y_pred, y_true, w = np.array(y_pred), np.array(y_true), np.array(w)\n",
    "    m = y_pred.shape[0]\n",
    "    l2_value = lambda_ * w.dot(w) / 2\n",
    "    return 1/(2*m) * ((y_pred - y_true) ** 2).sum() + l2_value"
   ]
  },
  {
   "cell_type": "markdown",
   "metadata": {},
   "source": [
    "#### 4) Реализуйте функцию градиентного спуска для линейной регрессии с L2-регуляризацией."
   ]
  },
  {
   "cell_type": "code",
   "execution_count": 7,
   "metadata": {},
   "outputs": [],
   "source": [
    "class LinearRegressionL2:\n",
    "    def __init__(self, w=None, lr=0.01, lambda_=0.001):\n",
    "        self.w = np.array(w) if not (isinstance(w, np.ndarray) or w is None) else w\n",
    "        self.lr = lr\n",
    "        self.history = []\n",
    "        self.lambda_ = lambda_\n",
    "        assert self.lr * self.lambda_ < 1\n",
    "    \n",
    "    def _calc_grad(self, prediction, labels, data_with_offset):\n",
    "        return ((prediction - labels) * data_with_offset.T).T.mean(axis=0)\n",
    "    \n",
    "    def _log_history(self, iterarion, prediction, labels, grad):\n",
    "        loss_value = loss_l2(prediction, labels, w=self.w, lambda_=self.lambda_)\n",
    "        self.history.append((iterarion, loss_value, grad))\n",
    "    \n",
    "    def fit(self, data, labels, max_iters=None, optimizer='grad', verbosity=False):\n",
    "        data, labels = np.array(data), np.array(labels)\n",
    "        \n",
    "        if self.w is None:\n",
    "            self.w = np.zeros(data.shape[1] + 1)\n",
    "        else:\n",
    "            assert self.w.shape[0] == (data.shape[1] + 1)\n",
    "        \n",
    "        data_with_offset = np.hstack((np.ones((data.shape[0], 1)), data))\n",
    "        prediction = self.predict(data_with_offset)\n",
    "        if verbosity:\n",
    "            print(loss_l2(prediction, labels, w=self.w, lambda_=self.lambda_))\n",
    "        \n",
    "        if optimizer == 'grad':\n",
    "            grad = self._calc_grad(prediction, labels, data_with_offset)\n",
    "            l2_part_value = self.lambda_ * self.w\n",
    "            iterarion = 0\n",
    "            self._log_history(iterarion, prediction, labels, grad)\n",
    "            while not np.allclose(self.lr * (grad + l2_part_value), np.zeros(grad.shape)):\n",
    "                l2_part_value = self.lambda_ * self.w\n",
    "                self.w -= self.lr * (grad + l2_part_value)\n",
    "                prediction = self.predict(data_with_offset)\n",
    "                grad = self._calc_grad(prediction, labels, data_with_offset)\n",
    "                iterarion += 1\n",
    "                self._log_history(iterarion, prediction, labels, grad)\n",
    "                if verbosity:\n",
    "                    print(self.history[-1][:2])\n",
    "                if max_iters and max_iters <= iterarion:\n",
    "                    break\n",
    "        if verbosity:\n",
    "            print(loss_l2(prediction, labels, w=self.w, lambda_=self.lambda_))\n",
    "        \n",
    "    \n",
    "    def predict(self, data):\n",
    "        data = np.array(data)\n",
    "        if self.w.shape[0] == data.shape[1]:\n",
    "            data_with_offset = data\n",
    "        else:\n",
    "            data_with_offset = np.hstack((np.ones((data.shape[0], 1)), data))\n",
    "        return data_with_offset.dot(self.w)\n",
    "    \n",
    "    def evaluate(self, data, labels):\n",
    "        prediction = self.predict(data)\n",
    "        return loss_l2(y_pred=prediction, y_true=labels, w=self.w, lambda_=self.lambda_)"
   ]
  },
  {
   "cell_type": "markdown",
   "metadata": {},
   "source": [
    "#### 5) Постройте модель линейной регрессии с коэффициентом регуляризации 0 и постройте график полученной функции совместно с графиком из пункта 2. Почему регуляризация в данном случае не сработает?"
   ]
  },
  {
   "cell_type": "code",
   "execution_count": 8,
   "metadata": {},
   "outputs": [],
   "source": [
    "lreg_l2 = LinearRegressionL2(lr=0.001, lambda_=0)\n",
    "lreg_l2.fit(X, y)"
   ]
  },
  {
   "cell_type": "code",
   "execution_count": 9,
   "metadata": {},
   "outputs": [
    {
     "data": {
      "image/png": "[encoded data removed]",
      "text/plain": [
       "<Figure size 432x288 with 1 Axes>"
      ]
     },
     "metadata": {
      "needs_background": "light"
     },
     "output_type": "display_data"
    }
   ],
   "source": [
    "plt.scatter(X.flatten(), y)\n",
    "x = np.linspace(X.min(), X.max(), 100).reshape((-1, 1))\n",
    "plt.plot(x, lreg_l2.predict(x).flatten())\n",
    "plt.show()"
   ]
  },
  {
   "cell_type": "markdown",
   "metadata": {},
   "source": [
    "#### 6) Постройте график процесса обучения (learning curves) для обучающей и валидационной выборки. По оси абсцисс откладывается число элементов из обучающей выборки, а по оси ординат - ошибка (значение функции потерь) для обучающей выборки (первая кривая) и валидационной выборки (вторая кривая). Какой вывод можно сделать по построенному графику?"
   ]
  },
  {
   "cell_type": "code",
   "execution_count": 10,
   "metadata": {},
   "outputs": [],
   "source": [
    "lreg_l2_val = LinearRegressionL2(lr=0.001, lambda_=0)\n",
    "lreg_l2_val.fit(Xval, yval)"
   ]
  },
  {
   "cell_type": "code",
   "execution_count": 11,
   "metadata": {},
   "outputs": [],
   "source": [
    "def plot_learning_curve(model, samples_per_iter, label):\n",
    "    history = np.array(model.history)\n",
    "    iterations, losses = history[:, 0], history[:, 1]\n",
    "    return plt.plot(iterations * samples_per_iter, losses, label=label)"
   ]
  },
  {
   "cell_type": "code",
   "execution_count": 12,
   "metadata": {},
   "outputs": [],
   "source": [
    "from tqdm import tqdm\n",
    "\n",
    "def plot_learning_curve2(get_model, X, y, Xval, yval, max_iters=None):\n",
    "    iterations, train_losses, val_losses = [], [], []\n",
    "    for n in tqdm(range(1, len(X))):\n",
    "        model = get_model()\n",
    "        model.fit(X[:n], y[:n], max_iters=max_iters)\n",
    "        train_loss = model.evaluate(X[:n], y[:n])\n",
    "        val_loss = model.evaluate(Xval, yval)\n",
    "        iterations.append(n)\n",
    "        train_losses.append(train_loss)\n",
    "        val_losses.append(val_loss)\n",
    "    plt.plot(iterations, train_losses, label='train')\n",
    "    plt.plot(iterations, val_losses, label='val')\n",
    "    plt.legend()\n",
    "    plt.show()"
   ]
  },
  {
   "cell_type": "code",
   "execution_count": 13,
   "metadata": {},
   "outputs": [
    {
     "data": {
      "image/png": "[encoded data removed]",
      "text/plain": [
       "<Figure size 432x288 with 1 Axes>"
      ]
     },
     "metadata": {
      "needs_background": "light"
     },
     "output_type": "display_data"
    }
   ],
   "source": [
    "plot_learning_curve(lreg_l2, X.shape[0], label='train')\n",
    "plot_learning_curve(lreg_l2_val, Xval.shape[0], label='validation')\n",
    "plt.legend()\n",
    "plt.show()"
   ]
  },
  {
   "cell_type": "code",
   "execution_count": 14,
   "metadata": {},
   "outputs": [
    {
     "name": "stderr",
     "output_type": "stream",
     "text": [
      "100%|██████████| 11/11 [00:07<00:00,  1.42it/s]\n"
     ]
    },
    {
     "data": {
      "image/png": "[encoded data removed]",
      "text/plain": [
       "<Figure size 432x288 with 1 Axes>"
      ]
     },
     "metadata": {
      "needs_background": "light"
     },
     "output_type": "display_data"
    }
   ],
   "source": [
    "def get_model():\n",
    "    return LinearRegressionL2(lr=0.001, lambda_=0)\n",
    "\n",
    "plot_learning_curve2(get_model, X, y, Xval, yval, max_iters=10000)"
   ]
  },
  {
   "cell_type": "markdown",
   "metadata": {},
   "source": [
    "#### 7) Реализуйте функцию добавления p - 1 новых признаков в обучающую выборку (X2, X3, X4, …, Xp)."
   ]
  },
  {
   "cell_type": "code",
   "execution_count": 15,
   "metadata": {},
   "outputs": [],
   "source": [
    "def generate_polinome_features(X, degree):\n",
    "    Xres = []\n",
    "    for cur_degree in range(1, degree + 1):\n",
    "        Xres.append(X.flatten() ** cur_degree)\n",
    "    return np.vstack(Xres).T"
   ]
  },
  {
   "cell_type": "markdown",
   "metadata": {},
   "source": [
    "#### 8) Поскольку в данной задаче будет использован полином высокой степени, то необходимо перед обучением произвести нормализацию признаков."
   ]
  },
  {
   "cell_type": "code",
   "execution_count": 16,
   "metadata": {},
   "outputs": [],
   "source": [
    "from sklearn.preprocessing import StandardScaler"
   ]
  },
  {
   "cell_type": "code",
   "execution_count": 17,
   "metadata": {},
   "outputs": [],
   "source": [
    "Xp = generate_polinome_features(X, degree=8)\n",
    "sc = StandardScaler()\n",
    "Xp_norm = sc.fit_transform(Xp)\n",
    "\n",
    "Xp_val = generate_polinome_features(Xval, degree=8)\n",
    "Xp_val_norm = sc.transform(Xp_val)"
   ]
  },
  {
   "cell_type": "markdown",
   "metadata": {},
   "source": [
    "#### 9) Обучите модель с коэффициентом регуляризации 0 и p = 8."
   ]
  },
  {
   "cell_type": "code",
   "execution_count": 18,
   "metadata": {},
   "outputs": [],
   "source": [
    "lreg_l2 = LinearRegressionL2(lr=0.1, lambda_=0)\n",
    "lreg_l2.fit(Xp_norm, y, max_iters=100_000)"
   ]
  },
  {
   "cell_type": "markdown",
   "metadata": {},
   "source": [
    "#### 10) Постройте график модели, совмещенный с обучающей выборкой, а также график процесса обучения. Какой вывод можно сделать в данном случае?"
   ]
  },
  {
   "cell_type": "code",
   "execution_count": 19,
   "metadata": {},
   "outputs": [],
   "source": [
    "def plot_model(model, X, y, scaler):\n",
    "    plt.scatter(X, y)\n",
    "    x = np.linspace(X.min(), X.max(), 100).reshape((-1, 1))\n",
    "    xp = generate_polinome_features(x, degree=8)\n",
    "    xp_norm = scaler.transform(xp)\n",
    "    return plt.plot(x, model.predict(xp_norm))"
   ]
  },
  {
   "cell_type": "code",
   "execution_count": 20,
   "metadata": {},
   "outputs": [
    {
     "data": {
      "image/png": "[encoded data removed]",
      "text/plain": [
       "<Figure size 432x288 with 1 Axes>"
      ]
     },
     "metadata": {
      "needs_background": "light"
     },
     "output_type": "display_data"
    }
   ],
   "source": [
    "plot_model(lreg_l2, X, y, sc)\n",
    "plt.show()"
   ]
  },
  {
   "cell_type": "code",
   "execution_count": 21,
   "metadata": {},
   "outputs": [
    {
     "data": {
      "image/png": "[encoded data removed]",
      "text/plain": [
       "<Figure size 432x288 with 1 Axes>"
      ]
     },
     "metadata": {
      "needs_background": "light"
     },
     "output_type": "display_data"
    }
   ],
   "source": [
    "plot_learning_curve(lreg_l2, X.shape[0], label='train')\n",
    "plt.legend()\n",
    "plt.show()"
   ]
  },
  {
   "cell_type": "code",
   "execution_count": 26,
   "metadata": {},
   "outputs": [
    {
     "name": "stderr",
     "output_type": "stream",
     "text": [
      "\n",
      "\n",
      "  0%|          | 0/11 [00:00<?, ?it/s]\u001b[A\u001b[A\n",
      "\n",
      " 27%|██▋       | 3/11 [00:00<00:00, 21.87it/s]\u001b[A\u001b[A\n",
      "\n",
      " 36%|███▋      | 4/11 [00:01<00:02,  3.36it/s]\u001b[A\u001b[A\n",
      "\n",
      " 45%|████▌     | 5/11 [00:01<00:02,  2.09it/s]\u001b[A\u001b[A\n",
      "\n",
      " 55%|█████▍    | 6/11 [00:02<00:02,  1.67it/s]\u001b[A\u001b[A\n",
      "\n",
      " 64%|██████▎   | 7/11 [00:03<00:02,  1.46it/s]\u001b[A\u001b[A\n",
      "\n",
      " 73%|███████▎  | 8/11 [00:04<00:02,  1.35it/s]\u001b[A\u001b[A\n",
      "\n",
      " 82%|████████▏ | 9/11 [00:05<00:01,  1.28it/s]\u001b[A\u001b[A\n",
      "\n",
      " 91%|█████████ | 10/11 [00:06<00:00,  1.23it/s]\u001b[A\u001b[A\n",
      "\n",
      "100%|██████████| 11/11 [00:07<00:00,  1.50it/s]\u001b[A\u001b[A\n"
     ]
    },
    {
     "data": {
      "image/png": "[encoded data removed]",
      "text/plain": [
       "<Figure size 432x288 with 1 Axes>"
      ]
     },
     "metadata": {
      "needs_background": "light"
     },
     "output_type": "display_data"
    }
   ],
   "source": [
    "def get_model():\n",
    "    return LinearRegressionL2(lr=0.1, lambda_=0)\n",
    "\n",
    "plot_learning_curve2(get_model, Xp_norm, y, Xp_val_norm, yval, max_iters=10000)"
   ]
  },
  {
   "cell_type": "markdown",
   "metadata": {},
   "source": [
    "#### 11) Постройте графики из пункта 10 для моделей с коэффициентами регуляризации 1 и 100. Какие выводы можно сделать?"
   ]
  },
  {
   "cell_type": "code",
   "execution_count": 29,
   "metadata": {},
   "outputs": [],
   "source": [
    "C = 1 \n",
    "lambda_ = 1/C\n",
    "lreg_l2 = LinearRegressionL2(lr=0.1, lambda_=lambda_)\n",
    "lreg_l2.fit(Xp_norm, y, max_iters=100_000)"
   ]
  },
  {
   "cell_type": "code",
   "execution_count": 30,
   "metadata": {},
   "outputs": [
    {
     "data": {
      "image/png": "[encoded data removed]",
      "text/plain": [
       "<Figure size 432x288 with 1 Axes>"
      ]
     },
     "metadata": {
      "needs_background": "light"
     },
     "output_type": "display_data"
    }
   ],
   "source": [
    "plot_model(lreg_l2, X, y, sc)\n",
    "plt.show()"
   ]
  },
  {
   "cell_type": "code",
   "execution_count": 32,
   "metadata": {},
   "outputs": [
    {
     "data": {
      "image/png": "[encoded data removed]",
      "text/plain": [
       "<Figure size 432x288 with 1 Axes>"
      ]
     },
     "metadata": {
      "needs_background": "light"
     },
     "output_type": "display_data"
    }
   ],
   "source": [
    "plot_learning_curve(lreg_l2, X.shape[0], label='train')\n",
    "plt.legend()\n",
    "plt.show()"
   ]
  },
  {
   "cell_type": "code",
   "execution_count": 33,
   "metadata": {},
   "outputs": [
    {
     "name": "stderr",
     "output_type": "stream",
     "text": [
      "\n",
      "\n",
      "  0%|          | 0/11 [00:00<?, ?it/s]\u001b[A\u001b[A\n",
      "\n",
      "100%|██████████| 11/11 [00:00<00:00, 77.78it/s][A\u001b[A\n"
     ]
    },
    {
     "data": {
      "image/png": "[encoded data removed]",
      "text/plain": [
       "<Figure size 432x288 with 1 Axes>"
      ]
     },
     "metadata": {
      "needs_background": "light"
     },
     "output_type": "display_data"
    }
   ],
   "source": [
    "def get_model():\n",
    "    return LinearRegressionL2(lr=0.1, lambda_=lambda_)\n",
    "\n",
    "plot_learning_curve2(get_model, Xp_norm, y, Xp_val_norm, yval, max_iters=10000)\n",
    "# plot_learning_curve2(get_model, Xp_norm, y, Xp_val_norm, yval)"
   ]
  },
  {
   "cell_type": "code",
   "execution_count": 34,
   "metadata": {},
   "outputs": [],
   "source": [
    "C = 100 \n",
    "lambda_ = 1/C\n",
    "lreg_l2 = LinearRegressionL2(lr=0.005, lambda_=lambda_)\n",
    "lreg_l2.fit(Xp_norm, y, max_iters=100_000)"
   ]
  },
  {
   "cell_type": "code",
   "execution_count": 35,
   "metadata": {},
   "outputs": [
    {
     "data": {
      "image/png": "[encoded data removed]",
      "text/plain": [
       "<Figure size 432x288 with 1 Axes>"
      ]
     },
     "metadata": {
      "needs_background": "light"
     },
     "output_type": "display_data"
    }
   ],
   "source": [
    "plot_model(lreg_l2, X, y, sc)\n",
    "plt.show()"
   ]
  },
  {
   "cell_type": "code",
   "execution_count": 36,
   "metadata": {},
   "outputs": [
    {
     "data": {
      "image/png": "[encoded data removed]",
      "text/plain": [
       "<Figure size 432x288 with 1 Axes>"
      ]
     },
     "metadata": {
      "needs_background": "light"
     },
     "output_type": "display_data"
    }
   ],
   "source": [
    "plot_learning_curve(lreg_l2, X.shape[0], label='train')\n",
    "plt.legend()\n",
    "plt.show()"
   ]
  },
  {
   "cell_type": "code",
   "execution_count": 37,
   "metadata": {},
   "outputs": [
    {
     "name": "stderr",
     "output_type": "stream",
     "text": [
      "\n",
      "\n",
      "  0%|          | 0/11 [00:00<?, ?it/s]\u001b[A\u001b[A\n",
      "\n",
      " 18%|█▊        | 2/11 [00:00<00:02,  3.23it/s]\u001b[A\u001b[A\n",
      "\n",
      " 27%|██▋       | 3/11 [00:01<00:03,  2.10it/s]\u001b[A\u001b[A\n",
      "\n",
      " 36%|███▋      | 4/11 [00:02<00:04,  1.67it/s]\u001b[A\u001b[A\n",
      "\n",
      " 45%|████▌     | 5/11 [00:03<00:04,  1.45it/s]\u001b[A\u001b[A\n",
      "\n",
      " 55%|█████▍    | 6/11 [00:04<00:03,  1.34it/s]\u001b[A\u001b[A\n",
      "\n",
      " 64%|██████▎   | 7/11 [00:05<00:03,  1.27it/s]\u001b[A\u001b[A\n",
      "\n",
      " 73%|███████▎  | 8/11 [00:06<00:02,  1.17it/s]\u001b[A\u001b[A\n",
      "\n",
      " 82%|████████▏ | 9/11 [00:06<00:01,  1.16it/s]\u001b[A\u001b[A\n",
      "\n",
      " 91%|█████████ | 10/11 [00:07<00:00,  1.15it/s]\u001b[A\u001b[A\n",
      "\n",
      "100%|██████████| 11/11 [00:08<00:00,  1.27it/s]\u001b[A\u001b[A\n"
     ]
    },
    {
     "data": {
      "image/png": "[encoded data removed]",
      "text/plain": [
       "<Figure size 432x288 with 1 Axes>"
      ]
     },
     "metadata": {
      "needs_background": "light"
     },
     "output_type": "display_data"
    }
   ],
   "source": [
    "def get_model():\n",
    "    return LinearRegressionL2(lr=0.005, lambda_=lambda_)\n",
    "\n",
    "plot_learning_curve2(get_model, Xp_norm, y, Xp_val_norm, yval, max_iters=10000)\n",
    "# plot_learning_curve2(get_model, Xp_norm, y, Xp_val_norm, yval)"
   ]
  },
  {
   "cell_type": "markdown",
   "metadata": {},
   "source": [
    "#### 12) С помощью валидационной выборки подберите коэффиент регуляризации, который позволяет достичь наименьшей ошибки. Процесс подбора отразите с помощью графика (графиков)."
   ]
  },
  {
   "cell_type": "code",
   "execution_count": 38,
   "metadata": {},
   "outputs": [
    {
     "name": "stderr",
     "output_type": "stream",
     "text": [
      "\n",
      "\n",
      "  0%|          | 0/9 [00:00<?, ?it/s]\u001b[A\u001b[A\n",
      "\n",
      " 11%|█         | 1/9 [00:01<00:13,  1.66s/it]\u001b[A\u001b[A\n",
      "\n",
      " 22%|██▏       | 2/9 [00:05<00:16,  2.32s/it]\u001b[A\u001b[A\n",
      "\n",
      " 33%|███▎      | 3/9 [00:09<00:17,  2.94s/it]\u001b[A\u001b[A\n",
      "\n",
      " 44%|████▍     | 4/9 [00:14<00:17,  3.47s/it]\u001b[A\u001b[A\n",
      "\n",
      " 56%|█████▌    | 5/9 [00:18<00:14,  3.74s/it]\u001b[A\u001b[A\n",
      "\n",
      " 67%|██████▋   | 6/9 [00:23<00:11,  3.90s/it]\u001b[A\u001b[A\n",
      "\n",
      " 78%|███████▊  | 7/9 [00:27<00:08,  4.03s/it]\u001b[A\u001b[A\n",
      "\n",
      " 89%|████████▉ | 8/9 [00:31<00:04,  4.12s/it]\u001b[A\u001b[A\n",
      "\n",
      "100%|██████████| 9/9 [00:36<00:00,  4.02s/it]\u001b[A\u001b[A\n"
     ]
    }
   ],
   "source": [
    "from tqdm import tqdm\n",
    "\n",
    "C_values = [10, 25, 50, 75, 100, 250, 500, 750, 1000]\n",
    "train_losses, val_losses = [], []\n",
    "\n",
    "for C in tqdm(C_values):\n",
    "    lambda_ = 1/C\n",
    "    lreg_l2 = LinearRegressionL2(lr=0.005, lambda_=lambda_)\n",
    "    lreg_l2.fit(Xp_norm, y, max_iters=50_000)\n",
    "    train_losses.append(lreg_l2.history[-1][1])\n",
    "    val_loss = lreg_l2.evaluate(Xp_val_norm, yval)\n",
    "    val_losses.append(val_loss)"
   ]
  },
  {
   "cell_type": "code",
   "execution_count": 39,
   "metadata": {},
   "outputs": [
    {
     "data": {
      "text/plain": [
       "[]"
      ]
     },
     "execution_count": 39,
     "metadata": {},
     "output_type": "execute_result"
    },
    {
     "data": {
      "image/png": "[encoded data removed]",
      "text/plain": [
       "<Figure size 432x288 with 1 Axes>"
      ]
     },
     "metadata": {
      "needs_background": "light"
     },
     "output_type": "display_data"
    }
   ],
   "source": [
    "plt.plot(C_values, train_losses, label='train loss')\n",
    "plt.plot(C_values, val_losses, label='validation loss')\n",
    "plt.legend()\n",
    "plt.plot()"
   ]
  },
  {
   "cell_type": "code",
   "execution_count": 40,
   "metadata": {},
   "outputs": [
    {
     "data": {
      "text/plain": [
       "[16.096508661804883,\n",
       " 9.898635315188631,\n",
       " 8.349258928419182,\n",
       " 8.511242498530521,\n",
       " 8.972837387046233,\n",
       " 11.252286297048677,\n",
       " 12.803149220148374,\n",
       " 13.46673948323574,\n",
       " 13.832124834551934]"
      ]
     },
     "execution_count": 40,
     "metadata": {},
     "output_type": "execute_result"
    }
   ],
   "source": [
    "val_losses"
   ]
  },
  {
   "cell_type": "markdown",
   "metadata": {},
   "source": [
    "#### 13) Вычислите ошибку (потерю) на контрольной выборке."
   ]
  },
  {
   "cell_type": "code",
   "execution_count": 41,
   "metadata": {},
   "outputs": [],
   "source": [
    "C_best = 50\n",
    "lambda_best = 1/C_best\n",
    "\n",
    "Xp_work_norm = np.concatenate((Xp_norm, Xp_val_norm))\n",
    "y_work = np.concatenate((y, yval))\n",
    "\n",
    "lreg_l2 = LinearRegressionL2(lr=0.005, lambda_=lambda_best)\n",
    "lreg_l2.fit(Xp_work_norm, y_work, max_iters=100_000)\n",
    "\n",
    "Xp_test = generate_polinome_features(Xtest, degree=8)\n",
    "Xp_test_norm = sc.transform(Xp_test)\n",
    "test_loss = lreg_l2.evaluate(Xp_test_norm, ytest)"
   ]
  },
  {
   "cell_type": "code",
   "execution_count": 42,
   "metadata": {},
   "outputs": [
    {
     "data": {
      "text/plain": [
       "5.586436750003026"
      ]
     },
     "execution_count": 42,
     "metadata": {},
     "output_type": "execute_result"
    }
   ],
   "source": [
    "test_loss"
   ]
  },
  {
   "cell_type": "code",
   "execution_count": 43,
   "metadata": {},
   "outputs": [
    {
     "data": {
      "text/plain": [
       "((21, 8), (21,))"
      ]
     },
     "execution_count": 43,
     "metadata": {},
     "output_type": "execute_result"
    }
   ],
   "source": [
    "Xp_test_norm.shape, ytest.shape"
   ]
  },
  {
   "cell_type": "code",
   "execution_count": 45,
   "metadata": {},
   "outputs": [
    {
     "data": {
      "image/png": "[encoded data removed]",
      "text/plain": [
       "<Figure size 432x288 with 1 Axes>"
      ]
     },
     "metadata": {
      "needs_background": "light"
     },
     "output_type": "display_data"
    }
   ],
   "source": [
    "plot_model(lreg_l2, Xtest, ytest, sc)\n",
    "plt.show()"
   ]
  },
  {
   "cell_type": "code",
   "execution_count": 46,
   "metadata": {},
   "outputs": [
    {
     "data": {
      "image/png": "[encoded data removed]",
      "text/plain": [
       "<Figure size 432x288 with 1 Axes>"
      ]
     },
     "metadata": {
      "needs_background": "light"
     },
     "output_type": "display_data"
    }
   ],
   "source": [
    "plot_learning_curve(lreg_l2, Xtest.shape[0], label='test')\n",
    "plt.legend()\n",
    "plt.show()"
   ]
  },
  {
   "cell_type": "code",
   "execution_count": 47,
   "metadata": {},
   "outputs": [
    {
     "name": "stderr",
     "output_type": "stream",
     "text": [
      "\n",
      "\n",
      "  0%|          | 0/32 [00:00<?, ?it/s]\u001b[A\u001b[A\n",
      "\n",
      "  6%|▋         | 2/32 [00:00<00:08,  3.37it/s]\u001b[A\u001b[A\n",
      "\n",
      "  9%|▉         | 3/32 [00:01<00:12,  2.29it/s]\u001b[A\u001b[A\n",
      "\n",
      " 12%|█▎        | 4/32 [00:02<00:16,  1.70it/s]\u001b[A\u001b[A\n",
      "\n",
      " 16%|█▌        | 5/32 [00:03<00:19,  1.38it/s]\u001b[A\u001b[A\n",
      "\n",
      " 19%|█▉        | 6/32 [00:04<00:20,  1.24it/s]\u001b[A\u001b[A\n",
      "\n",
      " 22%|██▏       | 7/32 [00:05<00:21,  1.18it/s]\u001b[A\u001b[A\n",
      "\n",
      " 25%|██▌       | 8/32 [00:06<00:20,  1.16it/s]\u001b[A\u001b[A\n",
      "\n",
      " 28%|██▊       | 9/32 [00:07<00:19,  1.16it/s]\u001b[A\u001b[A\n",
      "\n",
      " 31%|███▏      | 10/32 [00:07<00:19,  1.15it/s]\u001b[A\u001b[A\n",
      "\n",
      " 34%|███▍      | 11/32 [00:08<00:18,  1.15it/s]\u001b[A\u001b[A\n",
      "\n",
      " 38%|███▊      | 12/32 [00:09<00:17,  1.15it/s]\u001b[A\u001b[A\n",
      "\n",
      " 41%|████      | 13/32 [00:10<00:16,  1.15it/s]\u001b[A\u001b[A\n",
      "\n",
      " 44%|████▍     | 14/32 [00:11<00:15,  1.15it/s]\u001b[A\u001b[A\n",
      "\n",
      " 47%|████▋     | 15/32 [00:12<00:14,  1.14it/s]\u001b[A\u001b[A\n",
      "\n",
      " 50%|█████     | 16/32 [00:13<00:14,  1.13it/s]\u001b[A\u001b[A\n",
      "\n",
      " 53%|█████▎    | 17/32 [00:14<00:13,  1.13it/s]\u001b[A\u001b[A\n",
      "\n",
      " 56%|█████▋    | 18/32 [00:15<00:12,  1.09it/s]\u001b[A\u001b[A\n",
      "\n",
      " 59%|█████▉    | 19/32 [00:16<00:12,  1.03it/s]\u001b[A\u001b[A\n",
      "\n",
      " 62%|██████▎   | 20/32 [00:17<00:11,  1.01it/s]\u001b[A\u001b[A\n",
      "\n",
      " 66%|██████▌   | 21/32 [00:18<00:10,  1.00it/s]\u001b[A\u001b[A\n",
      "\n",
      " 69%|██████▉   | 22/32 [00:19<00:09,  1.03it/s]\u001b[A\u001b[A\n",
      "\n",
      " 72%|███████▏  | 23/32 [00:20<00:08,  1.05it/s]\u001b[A\u001b[A\n",
      "\n",
      " 75%|███████▌  | 24/32 [00:20<00:07,  1.07it/s]\u001b[A\u001b[A\n",
      "\n",
      " 78%|███████▊  | 25/32 [00:21<00:06,  1.09it/s]\u001b[A\u001b[A\n",
      "\n",
      " 81%|████████▏ | 26/32 [00:22<00:05,  1.10it/s]\u001b[A\u001b[A\n",
      "\n",
      " 84%|████████▍ | 27/32 [00:23<00:04,  1.09it/s]\u001b[A\u001b[A\n",
      "\n",
      " 88%|████████▊ | 28/32 [00:24<00:03,  1.10it/s]\u001b[A\u001b[A\n",
      "\n",
      " 91%|█████████ | 29/32 [00:25<00:02,  1.11it/s]\u001b[A\u001b[A\n",
      "\n",
      " 94%|█████████▍| 30/32 [00:26<00:01,  1.10it/s]\u001b[A\u001b[A\n",
      "\n",
      " 97%|█████████▋| 31/32 [00:27<00:00,  1.10it/s]\u001b[A\u001b[A\n",
      "\n",
      "100%|██████████| 32/32 [00:28<00:00,  1.14it/s]\u001b[A\u001b[A\n"
     ]
    },
    {
     "data": {
      "image/png": "[encoded data removed]",
      "text/plain": [
       "<Figure size 432x288 with 1 Axes>"
      ]
     },
     "metadata": {
      "needs_background": "light"
     },
     "output_type": "display_data"
    }
   ],
   "source": [
    "def get_model():\n",
    "    return LinearRegressionL2(lr=0.005, lambda_=lambda_best)\n",
    "\n",
    "plot_learning_curve2(get_model, Xp_work_norm, y_work, Xp_test_norm, ytest, max_iters=10000)"
   ]
  }
 ],
 "metadata": {
  "kernelspec": {
   "display_name": "Python 3",
   "language": "python",
   "name": "python3"
  },
  "language_info": {
   "codemirror_mode": {
    "name": "ipython",
    "version": 3
   },
   "file_extension": ".py",
   "mimetype": "text/x-python",
   "name": "python",
   "nbconvert_exporter": "python",
   "pygments_lexer": "ipython3",
   "version": "3.6.9"
  }
 },
 "nbformat": 4,
 "nbformat_minor": 2
}
