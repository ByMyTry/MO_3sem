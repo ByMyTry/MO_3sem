{
 "cells": [
  {
   "cell_type": "markdown",
   "metadata": {},
   "source": [
    "#### 1) Загрузите данные ex3data1.mat из файла."
   ]
  },
  {
   "cell_type": "code",
   "execution_count": 1,
   "metadata": {},
   "outputs": [],
   "source": [
    "import os\n",
    "import numpy as np\n",
    "import pandas as pd\n",
    "import matplotlib.pyplot as plt"
   ]
  },
  {
   "cell_type": "code",
   "execution_count": 2,
   "metadata": {},
   "outputs": [],
   "source": [
    "DATA_PATH = '/home/ataleckij/Projects/university/mo/Data/Lab 3/'"
   ]
  },
  {
   "cell_type": "code",
   "execution_count": 3,
   "metadata": {},
   "outputs": [
    {
     "name": "stdout",
     "output_type": "stream",
     "text": [
      "['ex3data1.mat']\n"
     ]
    }
   ],
   "source": [
    "files_names = os.listdir(DATA_PATH)\n",
    "print(files_names)\n",
    "files_paths = [os.path.join(DATA_PATH, name) for name in files_names]"
   ]
  },
  {
   "cell_type": "code",
   "execution_count": 4,
   "metadata": {},
   "outputs": [
    {
     "name": "stdout",
     "output_type": "stream",
     "text": [
      "(12, 1) (12,)\n",
      "(21, 1) (21,)\n",
      "(21, 1) (21,)\n"
     ]
    }
   ],
   "source": [
    "from scipy.io import loadmat\n",
    "\n",
    "data = loadmat(files_paths[0])\n",
    "\n",
    "X, y = data['X'], data['y'].flatten()\n",
    "print(X.shape, y.shape)\n",
    "\n",
    "Xval, yval = data['Xval'], data['yval'].flatten()\n",
    "print(Xval.shape, yval.shape)\n",
    "\n",
    "Xtest, ytest = data['Xval'], data['yval'].flatten()\n",
    "print(Xtest.shape, ytest.shape)"
   ]
  },
  {
   "cell_type": "markdown",
   "metadata": {},
   "source": [
    "#### 2) Постройте график, где по осям откладываются X и y из обучающей выборки."
   ]
  },
  {
   "cell_type": "code",
   "execution_count": 5,
   "metadata": {},
   "outputs": [
    {
     "data": {
      "text/plain": [
       "<matplotlib.collections.PathCollection at 0x7f11d4344358>"
      ]
     },
     "execution_count": 5,
     "metadata": {},
     "output_type": "execute_result"
    },
    {
     "data": {
      "image/png": "[encoded data removed]",
      "text/plain": [
       "<Figure size 432x288 with 1 Axes>"
      ]
     },
     "metadata": {
      "needs_background": "light"
     },
     "output_type": "display_data"
    }
   ],
   "source": [
    "plt.scatter(X.flatten(), y)"
   ]
  },
  {
   "cell_type": "markdown",
   "metadata": {},
   "source": [
    "#### 3) Реализуйте функцию стоимости потерь для линейной регрессии с L2-регуляризацией."
   ]
  },
  {
   "cell_type": "code",
   "execution_count": 6,
   "metadata": {},
   "outputs": [],
   "source": [
    "@np.vectorize\n",
    "def hack_log(x):\n",
    "    return np.log(x) if x != 0 else 0\n",
    "\n",
    "def loss_l2(y_pred, y_true, w, lambda_):\n",
    "    y_pred, y_true, w = np.array(y_pred), np.array(y_true), np.array(w)\n",
    "    m = y_pred.shape[0]\n",
    "    l2_value = lambda_ * w.dot(w) / 2\n",
    "    return 1/(2*m) * ((y_pred - y_true) ** 2).sum() + l2_value"
   ]
  },
  {
   "cell_type": "markdown",
   "metadata": {},
   "source": [
    "#### 4) Реализуйте функцию градиентного спуска для линейной регрессии с L2-регуляризацией."
   ]
  },
  {
   "cell_type": "code",
   "execution_count": 7,
   "metadata": {},
   "outputs": [],
   "source": [
    "class LinearRegressionL2:\n",
    "    def __init__(self, w=None, lr=0.01, lambda_=0.001):\n",
    "        self.w = np.array(w) if not (isinstance(w, np.ndarray) or w is None) else w\n",
    "        self.lr = lr\n",
    "        self.history = []\n",
    "        self.lambda_ = lambda_\n",
    "        assert self.lr * self.lambda_ < 1\n",
    "    \n",
    "    def _calc_grad(self, prediction, labels, data_with_offset):\n",
    "        return ((prediction - labels) * data_with_offset.T).T.mean(axis=0)\n",
    "    \n",
    "    def _log_history(self, iterarion, prediction, labels, grad):\n",
    "        loss_value = loss_l2(prediction, labels, w=self.w, lambda_=self.lambda_)\n",
    "        self.history.append((iterarion, loss_value, grad))\n",
    "    \n",
    "    def fit(self, data, labels, max_iters=None, optimizer='grad', verbosity=False):\n",
    "        data, labels = np.array(data), np.array(labels)\n",
    "        \n",
    "        if self.w is None:\n",
    "            self.w = np.zeros(data.shape[1] + 1)\n",
    "        else:\n",
    "            assert self.w.shape[0] == (data.shape[1] + 1)\n",
    "        \n",
    "        data_with_offset = np.hstack((np.ones((data.shape[0], 1)), data))\n",
    "        prediction = self.predict(data_with_offset)\n",
    "        if verbosity:\n",
    "            print(loss_l2(prediction, labels, w=self.w, lambda_=self.lambda_))\n",
    "        \n",
    "        if optimizer == 'grad':\n",
    "            grad = self._calc_grad(prediction, labels, data_with_offset)\n",
    "            l2_part_value = self.lambda_ * self.w\n",
    "            iterarion = 0\n",
    "            self._log_history(iterarion, prediction, labels, grad)\n",
    "            while not np.allclose(self.lr * (grad + l2_part_value), np.zeros(grad.shape)):\n",
    "                l2_part_value = self.lambda_ * self.w\n",
    "                self.w -= self.lr * (grad + l2_part_value)\n",
    "                prediction = self.predict(data_with_offset)\n",
    "                grad = self._calc_grad(prediction, labels, data_with_offset)\n",
    "                iterarion += 1\n",
    "                self._log_history(iterarion, prediction, labels, grad)\n",
    "                if verbosity:\n",
    "                    print(self.history[-1][:2])\n",
    "                if max_iters and max_iters <= iterarion:\n",
    "                    break\n",
    "        if verbosity:\n",
    "            print(loss_l2(prediction, labels, w=self.w, lambda_=self.lambda_))\n",
    "        \n",
    "    \n",
    "    def predict(self, data):\n",
    "        data = np.array(data)\n",
    "        if self.w.shape[0] == data.shape[1]:\n",
    "            data_with_offset = data\n",
    "        else:\n",
    "            data_with_offset = np.hstack((np.ones((data.shape[0], 1)), data))\n",
    "        return data_with_offset.dot(self.w)\n",
    "    \n",
    "    def evaluate(self, data, labels):\n",
    "        prediction = self.predict(data)\n",
    "        return loss_l2(y_pred=prediction, y_true=labels, w=self.w, lambda_=self.lambda_)"
   ]
  },
  {
   "cell_type": "markdown",
   "metadata": {},
   "source": [
    "#### 5) Постройте модель линейной регрессии с коэффициентом регуляризации 0 и постройте график полученной функции совместно с графиком из пункта 2. Почему регуляризация в данном случае не сработает?"
   ]
  },
  {
   "cell_type": "code",
   "execution_count": 8,
   "metadata": {},
   "outputs": [],
   "source": [
    "lreg_l2 = LinearRegressionL2(lr=0.001, lambda_=0)\n",
    "lreg_l2.fit(X, y)"
   ]
  },
  {
   "cell_type": "code",
   "execution_count": 9,
   "metadata": {},
   "outputs": [
    {
     "data": {
      "image/png": "[encoded data removed]",
      "text/plain": [
       "<Figure size 432x288 with 1 Axes>"
      ]
     },
     "metadata": {
      "needs_background": "light"
     },
     "output_type": "display_data"
    }
   ],
   "source": [
    "plt.scatter(X.flatten(), y)\n",
    "x = np.linspace(X.min(), X.max(), 100).reshape((-1, 1))\n",
    "plt.plot(x, lreg_l2.predict(x).flatten())\n",
    "plt.show()"
   ]
  },
  {
   "cell_type": "markdown",
   "metadata": {},
   "source": [
    "#### 6) Постройте график процесса обучения (learning curves) для обучающей и валидационной выборки. По оси абсцисс откладывается число элементов из обучающей выборки, а по оси ординат - ошибка (значение функции потерь) для обучающей выборки (первая кривая) и валидационной выборки (вторая кривая). Какой вывод можно сделать по построенному графику?"
   ]
  },
  {
   "cell_type": "code",
   "execution_count": 10,
   "metadata": {},
   "outputs": [],
   "source": [
    "lreg_l2_val = LinearRegressionL2(lr=0.001, lambda_=0)\n",
    "lreg_l2_val.fit(Xval, yval)"
   ]
  },
  {
   "cell_type": "code",
   "execution_count": 11,
   "metadata": {},
   "outputs": [],
   "source": [
    "def plot_learning_curve(model, samples_per_iter, label):\n",
    "    history = np.array(model.history)\n",
    "    iterations, losses = history[:, 0], history[:, 1]\n",
    "    return plt.plot(iterations * samples_per_iter, losses, label=label)"
   ]
  },
  {
   "cell_type": "code",
   "execution_count": 12,
   "metadata": {},
   "outputs": [
    {
     "data": {
      "image/png": "[encoded data removed]",
      "text/plain": [
       "<Figure size 432x288 with 1 Axes>"
      ]
     },
     "metadata": {
      "needs_background": "light"
     },
     "output_type": "display_data"
    }
   ],
   "source": [
    "plot_learning_curve(lreg_l2, X.shape[0], label='train')\n",
    "plot_learning_curve(lreg_l2_val, Xval.shape[0], label='validation')\n",
    "plt.legend()\n",
    "plt.show()"
   ]
  },
  {
   "cell_type": "markdown",
   "metadata": {},
   "source": [
    "#### 7) Реализуйте функцию добавления p - 1 новых признаков в обучающую выборку (X2, X3, X4, …, Xp)."
   ]
  },
  {
   "cell_type": "code",
   "execution_count": 13,
   "metadata": {},
   "outputs": [],
   "source": [
    "def generate_polinome_features(X, degree):\n",
    "    Xres = []\n",
    "    for cur_degree in range(1, degree + 1):\n",
    "        Xres.append(X.flatten() ** cur_degree)\n",
    "    return np.vstack(Xres).T"
   ]
  },
  {
   "cell_type": "markdown",
   "metadata": {},
   "source": [
    "#### 8) Поскольку в данной задаче будет использован полином высокой степени, то необходимо перед обучением произвести нормализацию признаков."
   ]
  },
  {
   "cell_type": "code",
   "execution_count": 14,
   "metadata": {},
   "outputs": [],
   "source": [
    "from sklearn.preprocessing import StandardScaler"
   ]
  },
  {
   "cell_type": "code",
   "execution_count": 15,
   "metadata": {},
   "outputs": [],
   "source": [
    "Xp = generate_polinome_features(X, degree=8)\n",
    "sc = StandardScaler()\n",
    "Xp_norm = sc.fit_transform(Xp)\n",
    "\n",
    "Xp_val = generate_polinome_features(Xval, degree=8)\n",
    "Xp_val_norm = sc.transform(Xp_val)"
   ]
  },
  {
   "cell_type": "markdown",
   "metadata": {},
   "source": [
    "#### 9) Обучите модель с коэффициентом регуляризации 0 и p = 8."
   ]
  },
  {
   "cell_type": "code",
   "execution_count": 16,
   "metadata": {},
   "outputs": [],
   "source": [
    "lreg_l2 = LinearRegressionL2(lr=0.1, lambda_=0)\n",
    "lreg_l2.fit(Xp_norm, y, max_iters=100_000)"
   ]
  },
  {
   "cell_type": "markdown",
   "metadata": {},
   "source": [
    "#### 10) Постройте график модели, совмещенный с обучающей выборкой, а также график процесса обучения. Какой вывод можно сделать в данном случае?"
   ]
  },
  {
   "cell_type": "code",
   "execution_count": 17,
   "metadata": {},
   "outputs": [],
   "source": [
    "def plot_model(model, X, y, scaler):\n",
    "    plt.scatter(X, y)\n",
    "    x = np.linspace(X.min(), X.max(), 100).reshape((-1, 1))\n",
    "    xp = generate_polinome_features(x, degree=8)\n",
    "    xp_norm = scaler.transform(xp)\n",
    "    return plt.plot(x, model.predict(xp_norm))"
   ]
  },
  {
   "cell_type": "code",
   "execution_count": 18,
   "metadata": {},
   "outputs": [
    {
     "data": {
      "image/png": "[encoded data removed]",
      "text/plain": [
       "<Figure size 432x288 with 1 Axes>"
      ]
     },
     "metadata": {
      "needs_background": "light"
     },
     "output_type": "display_data"
    }
   ],
   "source": [
    "plot_model(lreg_l2, X, y, sc)\n",
    "plt.show()"
   ]
  },
  {
   "cell_type": "code",
   "execution_count": 19,
   "metadata": {},
   "outputs": [
    {
     "data": {
      "image/png": "[encoded data removed]",
      "text/plain": [
       "<Figure size 432x288 with 1 Axes>"
      ]
     },
     "metadata": {
      "needs_background": "light"
     },
     "output_type": "display_data"
    }
   ],
   "source": [
    "plot_learning_curve(lreg_l2, X.shape[0], label='train')\n",
    "plt.legend()\n",
    "plt.show()"
   ]
  },
  {
   "cell_type": "markdown",
   "metadata": {},
   "source": [
    "#### 11) Постройте графики из пункта 10 для моделей с коэффициентами регуляризации 1 и 100. Какие выводы можно сделать?"
   ]
  },
  {
   "cell_type": "code",
   "execution_count": 20,
   "metadata": {},
   "outputs": [],
   "source": [
    "C = 1 \n",
    "lambda_ = 1/C\n",
    "lreg_l2 = LinearRegressionL2(lr=0.1, lambda_=lambda_)\n",
    "lreg_l2.fit(Xp_norm, y, max_iters=100_000)"
   ]
  },
  {
   "cell_type": "code",
   "execution_count": 21,
   "metadata": {},
   "outputs": [
    {
     "data": {
      "image/png": "[encoded data removed]",
      "text/plain": [
       "<Figure size 432x288 with 1 Axes>"
      ]
     },
     "metadata": {
      "needs_background": "light"
     },
     "output_type": "display_data"
    }
   ],
   "source": [
    "plot_model(lreg_l2, X, y, sc)\n",
    "plt.show()"
   ]
  },
  {
   "cell_type": "code",
   "execution_count": 22,
   "metadata": {},
   "outputs": [
    {
     "data": {
      "image/png": "[encoded data removed]",
      "text/plain": [
       "<Figure size 432x288 with 1 Axes>"
      ]
     },
     "metadata": {
      "needs_background": "light"
     },
     "output_type": "display_data"
    }
   ],
   "source": [
    "plot_learning_curve(lreg_l2, X.shape[0], label='train')\n",
    "plt.legend()\n",
    "plt.show()"
   ]
  },
  {
   "cell_type": "code",
   "execution_count": 23,
   "metadata": {},
   "outputs": [],
   "source": [
    "C = 100 \n",
    "lambda_ = 1/C\n",
    "lreg_l2 = LinearRegressionL2(lr=0.005, lambda_=lambda_)\n",
    "lreg_l2.fit(Xp_norm, y, max_iters=100_000)"
   ]
  },
  {
   "cell_type": "code",
   "execution_count": 24,
   "metadata": {},
   "outputs": [
    {
     "data": {
      "image/png": "[encoded data removed]",
      "text/plain": [
       "<Figure size 432x288 with 1 Axes>"
      ]
     },
     "metadata": {
      "needs_background": "light"
     },
     "output_type": "display_data"
    }
   ],
   "source": [
    "plot_model(lreg_l2, X, y, sc)\n",
    "plt.show()"
   ]
  },
  {
   "cell_type": "code",
   "execution_count": 25,
   "metadata": {},
   "outputs": [
    {
     "data": {
      "image/png": "[encoded data removed]",
      "text/plain": [
       "<Figure size 432x288 with 1 Axes>"
      ]
     },
     "metadata": {
      "needs_background": "light"
     },
     "output_type": "display_data"
    }
   ],
   "source": [
    "plot_learning_curve(lreg_l2, X.shape[0], label='train')\n",
    "plt.legend()\n",
    "plt.show()"
   ]
  },
  {
   "cell_type": "markdown",
   "metadata": {},
   "source": [
    "#### 12) С помощью валидационной выборки подберите коэффиент регуляризации, который позволяет достичь наименьшей ошибки. Процесс подбора отразите с помощью графика (графиков)."
   ]
  },
  {
   "cell_type": "code",
   "execution_count": 26,
   "metadata": {},
   "outputs": [
    {
     "name": "stderr",
     "output_type": "stream",
     "text": [
      "100%|██████████| 9/9 [00:38<00:00,  4.28s/it]\n"
     ]
    }
   ],
   "source": [
    "from tqdm import tqdm\n",
    "\n",
    "C_values = [10, 25, 50, 75, 100, 250, 500, 750, 1000]\n",
    "train_losses, val_losses = [], []\n",
    "\n",
    "for C in tqdm(C_values):\n",
    "    lambda_ = 1/C\n",
    "    lreg_l2 = LinearRegressionL2(lr=0.005, lambda_=lambda_)\n",
    "    lreg_l2.fit(Xp_norm, y, max_iters=50_000)\n",
    "    train_losses.append(lreg_l2.history[-1][1])\n",
    "    val_loss = lreg_l2.evaluate(Xp_val_norm, yval)\n",
    "    val_losses.append(val_loss)"
   ]
  },
  {
   "cell_type": "code",
   "execution_count": 27,
   "metadata": {},
   "outputs": [
    {
     "data": {
      "text/plain": [
       "[]"
      ]
     },
     "execution_count": 27,
     "metadata": {},
     "output_type": "execute_result"
    },
    {
     "data": {
      "image/png": "[encoded data removed]",
      "text/plain": [
       "<Figure size 432x288 with 1 Axes>"
      ]
     },
     "metadata": {
      "needs_background": "light"
     },
     "output_type": "display_data"
    }
   ],
   "source": [
    "plt.plot(C_values, train_losses, label='train loss')\n",
    "plt.plot(C_values, val_losses, label='validation loss')\n",
    "plt.legend()\n",
    "plt.plot()"
   ]
  },
  {
   "cell_type": "code",
   "execution_count": 28,
   "metadata": {},
   "outputs": [
    {
     "data": {
      "text/plain": [
       "[16.096508661804883,\n",
       " 9.898635315188631,\n",
       " 8.349258928419182,\n",
       " 8.511242498530521,\n",
       " 8.972837387046233,\n",
       " 11.252286297048677,\n",
       " 12.803149220148374,\n",
       " 13.46673948323574,\n",
       " 13.832124834551934]"
      ]
     },
     "execution_count": 28,
     "metadata": {},
     "output_type": "execute_result"
    }
   ],
   "source": [
    "val_losses"
   ]
  },
  {
   "cell_type": "markdown",
   "metadata": {},
   "source": [
    "#### 13) Вычислите ошибку (потерю) на контрольной выборке."
   ]
  },
  {
   "cell_type": "code",
   "execution_count": 32,
   "metadata": {},
   "outputs": [],
   "source": [
    "C_best = 50\n",
    "lambda_best = 1/C_best\n",
    "\n",
    "Xp_work_norm = np.concatenate((Xp_norm, Xp_val_norm))\n",
    "y_work = np.concatenate((y, yval))\n",
    "\n",
    "lreg_l2 = LinearRegressionL2(lr=0.005, lambda_=lambda_best)\n",
    "lreg_l2.fit(Xp_work_norm, y_work, max_iters=100_000)\n",
    "\n",
    "Xp_test = generate_polinome_features(Xtest, degree=8)\n",
    "Xp_test_norm = sc.transform(Xp_test)\n",
    "test_loss = lreg_l2.evaluate(Xp_test_norm, ytest)"
   ]
  },
  {
   "cell_type": "code",
   "execution_count": 33,
   "metadata": {},
   "outputs": [
    {
     "data": {
      "text/plain": [
       "5.586436750003026"
      ]
     },
     "execution_count": 33,
     "metadata": {},
     "output_type": "execute_result"
    }
   ],
   "source": [
    "test_loss"
   ]
  },
  {
   "cell_type": "code",
   "execution_count": 34,
   "metadata": {},
   "outputs": [
    {
     "data": {
      "text/plain": [
       "((21, 8), (21,))"
      ]
     },
     "execution_count": 34,
     "metadata": {},
     "output_type": "execute_result"
    }
   ],
   "source": [
    "Xp_test_norm.shape, ytest.shape"
   ]
  },
  {
   "cell_type": "code",
   "execution_count": 35,
   "metadata": {},
   "outputs": [
    {
     "data": {
      "image/png": "[encoded data removed]",
      "text/plain": [
       "<Figure size 432x288 with 1 Axes>"
      ]
     },
     "metadata": {
      "needs_background": "light"
     },
     "output_type": "display_data"
    }
   ],
   "source": [
    "plot_model(lreg_l2, Xtest, ytest, sc1)\n",
    "plt.show()"
   ]
  },
  {
   "cell_type": "code",
   "execution_count": 36,
   "metadata": {},
   "outputs": [
    {
     "data": {
      "image/png": "[encoded data removed]",
      "text/plain": [
       "<Figure size 432x288 with 1 Axes>"
      ]
     },
     "metadata": {
      "needs_background": "light"
     },
     "output_type": "display_data"
    }
   ],
   "source": [
    "plot_learning_curve(lreg_l2, Xtest.shape[0], label='test')\n",
    "plt.legend()\n",
    "plt.show()"
   ]
  }
 ],
 "metadata": {
  "kernelspec": {
   "display_name": "Python 3",
   "language": "python",
   "name": "python3"
  }
 },
 "nbformat": 4,
 "nbformat_minor": 2
}
