{
 "cells": [
  {
   "cell_type": "markdown",
   "metadata": {},
   "source": [
    "#### Загрузите данные с помощью библиотеки sklearn."
   ]
  },
  {
   "cell_type": "code",
   "execution_count": 1,
   "metadata": {},
   "outputs": [],
   "source": [
    "import os\n",
    "import numpy as np\n",
    "import pandas as pd\n",
    "import matplotlib.pyplot as plt\n",
    "from tqdm import tqdm"
   ]
  },
  {
   "cell_type": "code",
   "execution_count": 2,
   "metadata": {},
   "outputs": [],
   "source": [
    "# 1. CRIM      per capita crime rate by town\n",
    "# 2. ZN        proportion of residential land zoned for lots over \n",
    "#              25,000 sq.ft.\n",
    "# 3. INDUS     proportion of non-retail business acres per town\n",
    "# 4. CHAS      Charles River dummy variable (= 1 if tract bounds \n",
    "#              river; 0 otherwise)\n",
    "# 5. NOX       nitric oxides concentration (parts per 10 million)\n",
    "# 6. RM        average number of rooms per dwelling\n",
    "# 7. AGE       proportion of owner-occupied units built prior to 1940\n",
    "# 8. DIS       weighted distances to five Boston employment centres\n",
    "# 9. RAD       index of accessibility to radial highways\n",
    "# 10. TAX      full-value property-tax rate per $10,000\n",
    "# 11. PTRATIO  pupil-teacher ratio by town\n",
    "# 12. B        1000(Bk - 0.63)^2 where Bk is the proportion of blacks \n",
    "#              by town\n",
    "# 13. LSTAT    % lower status of the population\n",
    "# 14. MEDV     Median value of owner-occupied homes in $1000's\n",
    "\n",
    "columns = [\n",
    "    'CRIM', 'ZN', 'INDUS', 'CHAS', 'NOX', 'RM', 'AGE', 'DIS', \n",
    "    'RAD', 'TAX', 'PTRATIO', 'B', 'LSTAT', 'MEDV'\n",
    "]\n",
    "\n",
    "data = pd.read_csv('housing.data', names=columns, header=None, delim_whitespace=True)"
   ]
  },
  {
   "cell_type": "code",
   "execution_count": 3,
   "metadata": {},
   "outputs": [],
   "source": [
    "target_column = 'MEDV'\n",
    "X, y = data[[column for column in data.columns if column != target_column]].values, data[target_column].values"
   ]
  },
  {
   "cell_type": "markdown",
   "metadata": {},
   "source": [
    "#### Разделите выборку на обучающую (75%) и контрольную (25%)."
   ]
  },
  {
   "cell_type": "code",
   "execution_count": 4,
   "metadata": {},
   "outputs": [
    {
     "data": {
      "text/plain": [
       "((379, 13), (127, 13))"
      ]
     },
     "execution_count": 4,
     "metadata": {},
     "output_type": "execute_result"
    }
   ],
   "source": [
    "from sklearn.model_selection import train_test_split\n",
    "\n",
    "RANDOM_STATE = 42\n",
    "\n",
    "X_train, X_test, y_train, y_test = train_test_split(X, y, test_size=0.25, random_state=RANDOM_STATE)\n",
    "X_train.shape, X_test.shape"
   ]
  },
  {
   "cell_type": "markdown",
   "metadata": {},
   "source": [
    "#### В процессе реализации обучения вам потребуется функция, которая будет вычислять прогноз построенной на данный момент композиции деревьев на выборке X. Реализуйте ее. Эта же функция поможет вам получить прогноз на контрольной выборке и оценить качество работы вашего алгоритма с помощью mean_squared_error в sklearn.metrics."
   ]
  },
  {
   "cell_type": "code",
   "execution_count": 16,
   "metadata": {},
   "outputs": [],
   "source": []
  },
  {
   "cell_type": "markdown",
   "metadata": {},
   "source": [
    "#### Заведите массив для объектов DecisionTreeRegressor (они будут использоваться в качестве базовых алгоритмов) и для вещественных чисел (коэффициенты перед базовыми алгоритмами).\n",
    "#### Попробуйте всегда брать коэффициент равным 0.9. Обычно оправдано выбирать коэффициент значительно меньшим - порядка 0.05 или 0.1, но на стандартном наборе данных будет всего 50 деревьев, возьмите для начала шаг побольше."
   ]
  },
  {
   "cell_type": "code",
   "execution_count": 65,
   "metadata": {},
   "outputs": [],
   "source": [
    "from sklearn.tree import DecisionTreeRegressor\n",
    "\n",
    "tree_params = dict(\n",
    "    max_depth=5,\n",
    "    random_state=RANDOM_STATE\n",
    ")\n",
    "\n",
    "class GradientForest:\n",
    "    def __init__(self, forest_size, start_coef, modify_tree_coef_by_i=False, \n",
    "                 base_model_injector=DecisionTreeRegressor, base_model_params=tree_params):\n",
    "        self.start_coef = start_coef\n",
    "        self.modify_tree_coef_by_i = modify_tree_coef_by_i\n",
    "        self.forest_size = forest_size\n",
    "        self.base_model_injector = base_model_injector\n",
    "        self.base_model_params = base_model_params\n",
    "        \n",
    "        self._tree_list = []\n",
    "        self._coefficients = []\n",
    "    \n",
    "    def fit(self, X, y):\n",
    "        self._tree_list = []\n",
    "        self._coefficients = []\n",
    "        s_i = y.copy()\n",
    "        coef = self.start_coef\n",
    "        for i in range(self.forest_size):\n",
    "            tree_coef_modifier = i if self.modify_tree_coef_by_i else 0\n",
    "            coef = coef / (1 + tree_coef_modifier)\n",
    "            current_tree = self.base_model_injector(**self.base_model_params).fit(X, s_i)\n",
    "            self._tree_list.append(current_tree)\n",
    "            self._coefficients.append(coef)\n",
    "            s_i = y - self.predict(X)\n",
    "        return self\n",
    "    \n",
    "    \n",
    "    def predict(self, X):\n",
    "        y_pred = np.zeros(X.shape[0])\n",
    "        for tree, coef in zip(self._tree_list, self._coefficients):\n",
    "            y_pred += coef * tree.predict(X)\n",
    "        return y_pred"
   ]
  },
  {
   "cell_type": "code",
   "execution_count": 67,
   "metadata": {},
   "outputs": [],
   "source": [
    "forest_model = GradientForest(forest_size=50, start_coef=0.9).fit(X_train, y_train)"
   ]
  },
  {
   "cell_type": "code",
   "execution_count": 68,
   "metadata": {},
   "outputs": [],
   "source": [
    "from sklearn.metrics import mean_absolute_error\n",
    "\n",
    "def score(X, y, model):\n",
    "    y_pred_base = np.zeros(y.shape[0]) + y.mean()\n",
    "    score_value_base = mean_absolute_error(y_pred_base, y)\n",
    "    \n",
    "    y_pred = model.predict(X)\n",
    "    score_value = mean_absolute_error(y_pred, y)\n",
    "    return score_value_base, score_value"
   ]
  },
  {
   "cell_type": "code",
   "execution_count": 69,
   "metadata": {},
   "outputs": [
    {
     "name": "stdout",
     "output_type": "stream",
     "text": [
      "(6.889290662136855, 0.00429887275552971)\n",
      "(5.872502945005889, 2.7246775197111184)\n"
     ]
    }
   ],
   "source": [
    "print(score(X_train, y_train, forest_model))\n",
    "print(score(X_test, y_test, forest_model))"
   ]
  },
  {
   "cell_type": "markdown",
   "metadata": {},
   "source": [
    "#### Попробуйте уменьшать вес перед каждым алгоритмом с каждой следующей итерацией по формуле 0.9 / (1.0 + i), где i - номер итерации (от 0 до 49). Какое получилось качество на контрольной выборке?"
   ]
  },
  {
   "cell_type": "code",
   "execution_count": 70,
   "metadata": {},
   "outputs": [],
   "source": [
    "forest_model1 = GradientForest(forest_size=50, start_coef=0.9, modify_tree_coef_by_i=True).fit(X_train, y_train)"
   ]
  },
  {
   "cell_type": "code",
   "execution_count": 72,
   "metadata": {},
   "outputs": [
    {
     "name": "stdout",
     "output_type": "stream",
     "text": [
      "(6.889290662136855, 1.8330009738996336)\n",
      "(5.872502945005889, 2.3967033569326754)\n"
     ]
    }
   ],
   "source": [
    "print(score(X_train, y_train, forest_model1))\n",
    "print(score(X_test, y_test, forest_model1))"
   ]
  },
  {
   "cell_type": "markdown",
   "metadata": {},
   "source": [
    "#### Исследуйте, переобучается ли градиентный бустинг с ростом числа итераций, а также с ростом глубины деревьев. Постройте графики. Какие выводы можно сделать?"
   ]
  },
  {
   "cell_type": "code",
   "execution_count": 82,
   "metadata": {},
   "outputs": [
    {
     "name": "stderr",
     "output_type": "stream",
     "text": [
      "100%|██████████| 16/16 [00:04<00:00,  3.27it/s]\n"
     ]
    },
    {
     "data": {
      "image/png": "[encoded data removed]",
      "text/plain": [
       "<Figure size 432x288 with 1 Axes>"
      ]
     },
     "metadata": {
      "needs_background": "light"
     },
     "output_type": "display_data"
    }
   ],
   "source": [
    "max_depth_values = list(range(2, 50, 3))\n",
    "\n",
    "train_scores = []\n",
    "test_scores = []\n",
    "\n",
    "for max_depth in tqdm(max_depth_values):\n",
    "    tree_params = dict(\n",
    "        max_depth=max_depth,\n",
    "        random_state=RANDOM_STATE\n",
    "    )\n",
    "    forest_model = GradientForest(forest_size=50, start_coef=0.9, \n",
    "                                  modify_tree_coef_by_i=True, base_model_params=tree_params)\n",
    "    forest_model.fit(X_train, y_train)\n",
    "    train_score = score(X_train, y_train, forest_model)[1]\n",
    "    train_scores.append(train_score)\n",
    "    test_score = score(X_test, y_test, forest_model)[1]\n",
    "    test_scores.append(test_score)\n",
    "    \n",
    "plt.plot(max_depth_values, train_scores, label='train')\n",
    "plt.plot(max_depth_values, test_scores, label='test')\n",
    "plt.legend()\n",
    "plt.show()"
   ]
  },
  {
   "cell_type": "code",
   "execution_count": 85,
   "metadata": {},
   "outputs": [
    {
     "name": "stderr",
     "output_type": "stream",
     "text": [
      "100%|██████████| 50/50 [00:11<00:00,  4.47it/s]\n"
     ]
    },
    {
     "data": {
      "image/png": "[encoded data removed]",
      "text/plain": [
       "<Figure size 432x288 with 1 Axes>"
      ]
     },
     "metadata": {
      "needs_background": "light"
     },
     "output_type": "display_data"
    }
   ],
   "source": [
    "forest_size_values = list(range(1, 100, 2))\n",
    "\n",
    "train_scores = []\n",
    "test_scores = []\n",
    "\n",
    "for forest_size in tqdm(forest_size_values):\n",
    "    forest_model = GradientForest(forest_size=forest_size, start_coef=0.9, modify_tree_coef_by_i=True)\n",
    "    forest_model.fit(X_train, y_train)\n",
    "    train_score = score(X_train, y_train, forest_model)[1]\n",
    "    train_scores.append(train_score)\n",
    "    test_score = score(X_test, y_test, forest_model)[1]\n",
    "    test_scores.append(test_score)\n",
    "    \n",
    "plt.plot(forest_size_values, train_scores, label='train')\n",
    "plt.plot(forest_size_values, test_scores, label='test')\n",
    "plt.legend()\n",
    "plt.show()"
   ]
  },
  {
   "cell_type": "markdown",
   "metadata": {},
   "source": [
    "#### Сравните качество, получаемое с помощью градиентного бустинга с качеством работы линейной регрессии. Для этого обучите LinearRegression из sklearn.linear_model (с параметрами по умолчанию) на обучающей выборке и оцените для прогнозов полученного алгоритма на тестовой выборке RMSE."
   ]
  },
  {
   "cell_type": "code",
   "execution_count": 89,
   "metadata": {},
   "outputs": [
    {
     "name": "stdout",
     "output_type": "stream",
     "text": [
      "(6.889290662136855, 1.8330009738996336)\n",
      "(5.872502945005889, 2.3967033569326754)\n"
     ]
    }
   ],
   "source": [
    "forest_model = GradientForest(forest_size=50, start_coef=0.9, modify_tree_coef_by_i=True)\n",
    "forest_model.fit(X_train, y_train)\n",
    "print(score(X_train, y_train, forest_model))\n",
    "print(score(X_test, y_test, forest_model))"
   ]
  },
  {
   "cell_type": "code",
   "execution_count": 90,
   "metadata": {},
   "outputs": [
    {
     "name": "stdout",
     "output_type": "stream",
     "text": [
      "(6.889290662136855, 3.366287514452111)\n",
      "(5.872502945005889, 3.0609395954370346)\n"
     ]
    }
   ],
   "source": [
    "from sklearn.linear_model import LinearRegression\n",
    "\n",
    "lr = LinearRegression()\n",
    "lr.fit(X_train, y_train)\n",
    "print(score(X_train, y_train, lr))\n",
    "print(score(X_test, y_test, lr))"
   ]
  }
 ],
 "metadata": {
  "kernelspec": {
   "display_name": "Python 3",
   "language": "python",
   "name": "python3"
  },
  "language_info": {
   "codemirror_mode": {
    "name": "ipython",
    "version": 3
   },
   "file_extension": ".py",
   "mimetype": "text/x-python",
   "name": "python",
   "nbconvert_exporter": "python",
   "pygments_lexer": "ipython3",
   "version": "3.6.9"
  }
 },
 "nbformat": 4,
 "nbformat_minor": 2
}
